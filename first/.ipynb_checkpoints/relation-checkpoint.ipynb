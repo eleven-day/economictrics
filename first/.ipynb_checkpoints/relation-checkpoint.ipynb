{
 "cells": [
  {
   "cell_type": "code",
   "execution_count": 39,
   "metadata": {},
   "outputs": [
    {
     "name": "stdout",
     "output_type": "stream",
     "text": [
      "112.62428571428572\n",
      "15.49580605977556\n",
      "1.573\n",
      "0.12080247553439499\n",
      "5.38052380952381\n",
      "0.39022296667267153\n"
     ]
    }
   ],
   "source": [
    "#平均数与标准差\n",
    "import numpy as np\n",
    "\n",
    "j = [140.55,138.15,132.95,125.25,133.05,125.55,119.25,124.65,115.35,106.51,105.10,111.89,104.15,99.80,99.45,100.85,90.35,84.75,98.15,102.88,106.48]\n",
    "g = [1.697,1.810,1.667,1.519,1.643,1.523,1.412,1.621,1.608,1.706,1.634,1.738,1.674,1.588,1.551,1.549,1.373,1.382,1.426,1.437,1.475]\n",
    "f = [5.746,6.135,5.682,5.190,5.572,5.116,4.774,5.527,5.593,5.746,5.695,5.918,5.717,5.439,5.298,5.338,4.806,4.840,4.921,4.906,5.032]\n",
    "\n",
    "print(np.mean(j))\n",
    "print(np.std(j))\n",
    "\n",
    "print(np.mean(g))\n",
    "print(np.std(g))\n",
    "\n",
    "print(np.mean(f))\n",
    "print(np.std(f))"
   ]
  },
  {
   "cell_type": "code",
   "execution_count": 40,
   "metadata": {},
   "outputs": [
    {
     "name": "stdout",
     "output_type": "stream",
     "text": [
      "0.13758849578044435\n",
      "0.07679750510768912\n",
      "0.07252508872499669\n"
     ]
    }
   ],
   "source": [
    "#变动系数\n",
    "\n",
    "print(np.std(j)/np.mean(j))\n",
    "print(np.std(g)/np.mean(g))\n",
    "print(np.std(f)/np.mean(f))"
   ]
  },
  {
   "cell_type": "code",
   "execution_count": 41,
   "metadata": {},
   "outputs": [],
   "source": [
    "#标准化变量\n",
    "#      t=（X-Xm）/std\n",
    "\n",
    "#偏差值\n",
    "#      v=50+10*t"
   ]
  },
  {
   "cell_type": "code",
   "execution_count": 45,
   "metadata": {},
   "outputs": [
    {
     "data": {
      "text/plain": [
       "0.9801960588196069"
      ]
     },
     "execution_count": 45,
     "metadata": {},
     "output_type": "execute_result"
    }
   ],
   "source": [
    "#相关系数\n",
    "x = np.array([6,1,3,9,7])\n",
    "y = np.array([5,2,4,8,6])\n",
    "\n",
    "def R(x,y):\n",
    "    a = x.sum()\n",
    "    b = y.sum()\n",
    "    c = sum(x*y)\n",
    "    d = sum(x*x)\n",
    "    e = sum(y*y)\n",
    "    f = len(x)\n",
    "\n",
    "    R = (f*c - a*b)/(((f*d - a*a)*(f*e - b*b))**(1/2))\n",
    "    return R\n",
    "\n",
    "R(x,y)"
   ]
  },
  {
   "cell_type": "code",
   "execution_count": 43,
   "metadata": {},
   "outputs": [
    {
     "data": {
      "text/plain": [
       "0.9348982128816014"
      ]
     },
     "execution_count": 43,
     "metadata": {},
     "output_type": "execute_result"
    },
    {
     "data": {
      "image/png": "[encoded data removed]",
      "text/plain": [
       "<Figure size 432x288 with 1 Axes>"
      ]
     },
     "metadata": {
      "needs_background": "light"
     },
     "output_type": "display_data"
    }
   ],
   "source": [
    "import matplotlib.pyplot as plt\n",
    "\n",
    "X = np.array([5.5,6.6,8.1,15.8,19.5,22.4,28.3,28.9])\n",
    "Y = np.array([2.38,3.85,4.41,5.67,5.44,6.03,8.15,6.87])\n",
    "\n",
    "plt.scatter(X,Y)\n",
    "R(X,Y)"
   ]
  },
  {
   "cell_type": "code",
   "execution_count": 48,
   "metadata": {},
   "outputs": [
    {
     "data": {
      "text/plain": [
       "-0.8759625436808028"
      ]
     },
     "execution_count": 48,
     "metadata": {},
     "output_type": "execute_result"
    }
   ],
   "source": [
    "GDP = np.array([103,82,34,28,30,64,38,44,152,58,61,25,54,26,45,24,33,27,64,28,48,25,16,25,20,24,19,29,27,40],dtype=\"int64\")\n",
    "First = np.array([11,18,54,44,53,31,46,37,9,43,44,62,51,56,56,62,54,63,41,68,61,65,75,77,78,60,59,60,60,57],dtype=\"int64\")\n",
    "\n",
    "R(GDP,First)"
   ]
  },
  {
   "cell_type": "code",
   "execution_count": 50,
   "metadata": {},
   "outputs": [
    {
     "data": {
      "text/plain": [
       "0.9321160502153483"
      ]
     },
     "execution_count": 50,
     "metadata": {},
     "output_type": "execute_result"
    }
   ],
   "source": [
    "#相关系数的检验\n",
    "x1 = np.array([168,145,128,138,145,135,127,111,102,94],dtype=\"int64\")\n",
    "y1 = np.array([661,631,610,588,583,575,567,502,446,379],dtype=\"int64\")\n",
    "\n",
    "R(x1,y1)"
   ]
  },
  {
   "cell_type": "code",
   "execution_count": 53,
   "metadata": {},
   "outputs": [
    {
     "data": {
      "text/plain": [
       "0.8333333333333334"
      ]
     },
     "execution_count": 53,
     "metadata": {},
     "output_type": "execute_result"
    }
   ],
   "source": [
    "#斯皮尔曼秩相关系数\n",
    "def SR(x,y):\n",
    "    SR = 1 - ((6*sum((x-y)**2))/(len(x)*(len(x)**2-1)))\n",
    "    return SR\n",
    "\n",
    "J = np.array([1,3,4,6,2,5,7,8,9],dtype=\"int64\")\n",
    "A = np.array([3,2,7,5,1,4,6,9,8],dtype=\"int64\")\n",
    "G = np.array([3,8,5,7,1,4,2,6,9],dtype=\"int64\")\n",
    "\n",
    "SR(J,A)"
   ]
  },
  {
   "cell_type": "code",
   "execution_count": 54,
   "metadata": {},
   "outputs": [
    {
     "data": {
      "text/plain": [
       "0.4833333333333333"
      ]
     },
     "execution_count": 54,
     "metadata": {},
     "output_type": "execute_result"
    }
   ],
   "source": [
    "SR(J,G)"
   ]
  },
  {
   "cell_type": "code",
   "execution_count": null,
   "metadata": {},
   "outputs": [],
   "source": []
  }
 ],
 "metadata": {
  "kernelspec": {
   "display_name": "Python 3",
   "language": "python",
   "name": "python3"
  },
  "language_info": {
   "codemirror_mode": {
    "name": "ipython",
    "version": 3
   },
   "file_extension": ".py",
   "mimetype": "text/x-python",
   "name": "python",
   "nbconvert_exporter": "python",
   "pygments_lexer": "ipython3",
   "version": "3.8.3"
  }
 },
 "nbformat": 4,
 "nbformat_minor": 4
}
