{
 "cells": [
  {
   "cell_type": "code",
   "execution_count": 3,
   "id": "dc264440",
   "metadata": {},
   "outputs": [
    {
     "name": "stdout",
     "output_type": "stream",
     "text": [
      "                            OLS Regression Results                            \n",
      "==============================================================================\n",
      "Dep. Variable:                      Y   R-squared:                       0.782\n",
      "Model:                            OLS   Adj. R-squared:                  0.767\n",
      "Method:                 Least Squares   F-statistic:                     50.24\n",
      "Date:                Wed, 01 Feb 2023   Prob (F-statistic):           5.44e-06\n",
      "Time:                        23:09:30   Log-Likelihood:                -46.763\n",
      "No. Observations:                  16   AIC:                             97.53\n",
      "Df Residuals:                      14   BIC:                             99.07\n",
      "Df Model:                           1                                         \n",
      "Covariance Type:            nonrobust                                         \n",
      "==============================================================================\n",
      "                 coef    std err          t      P>|t|      [0.025      0.975]\n",
      "------------------------------------------------------------------------------\n",
      "Intercept     11.0085      9.965      1.105      0.288     -10.363      32.380\n",
      "X              0.9249      0.130      7.088      0.000       0.645       1.205\n",
      "==============================================================================\n",
      "Omnibus:                        3.968   Durbin-Watson:                   2.497\n",
      "Prob(Omnibus):                  0.138   Jarque-Bera (JB):                1.831\n",
      "Skew:                          -0.769   Prob(JB):                        0.400\n",
      "Kurtosis:                       3.619   Cond. No.                         633.\n",
      "==============================================================================\n",
      "\n",
      "Notes:\n",
      "[1] Standard Errors assume that the covariance matrix of the errors is correctly specified.\n"
     ]
    },
    {
     "name": "stderr",
     "output_type": "stream",
     "text": [
      "/home/xiao/anaconda3/lib/python3.9/site-packages/scipy/stats/_stats_py.py:1769: UserWarning: kurtosistest only valid for n>=20 ... continuing anyway, n=16\n",
      "  warnings.warn(\"kurtosistest only valid for n>=20 ... continuing \"\n"
     ]
    }
   ],
   "source": [
    "import pandas as pd\n",
    "\n",
    "data = pd.read_excel(r'economics6.xlsx',sheet_name=4,names=['year','Y','X'])\n",
    "\n",
    "col = ['Y','X']\n",
    "\n",
    "df = pd.DataFrame(data,columns=col)\n",
    "\n",
    "import statsmodels.formula.api as smf\n",
    "\n",
    "mod = smf.ols(formula='Y~X',data=df)\n",
    "res = mod.fit()\n",
    "print(res.summary())"
   ]
  },
  {
   "cell_type": "code",
   "execution_count": 5,
   "id": "2fce21bc",
   "metadata": {},
   "outputs": [
    {
     "name": "stdout",
     "output_type": "stream",
     "text": [
      "                            OLS Regression Results                            \n",
      "==============================================================================\n",
      "Dep. Variable:                      Y   R-squared:                       0.882\n",
      "Model:                            OLS   Adj. R-squared:                  0.864\n",
      "Method:                 Least Squares   F-statistic:                     48.46\n",
      "Date:                Wed, 01 Feb 2023   Prob (F-statistic):           9.41e-07\n",
      "Time:                        23:11:15   Log-Likelihood:                -41.873\n",
      "No. Observations:                  16   AIC:                             89.75\n",
      "Df Residuals:                      13   BIC:                             92.06\n",
      "Df Model:                           2                                         \n",
      "Covariance Type:            nonrobust                                         \n",
      "==============================================================================\n",
      "                 coef    std err          t      P>|t|      [0.025      0.975]\n",
      "------------------------------------------------------------------------------\n",
      "Intercept     15.2075      7.723      1.969      0.071      -1.476      31.891\n",
      "X              0.8799      0.101      8.741      0.000       0.662       1.097\n",
      "D            -12.6830      3.832     -3.310      0.006     -20.961      -4.405\n",
      "==============================================================================\n",
      "Omnibus:                        0.301   Durbin-Watson:                   2.345\n",
      "Prob(Omnibus):                  0.860   Jarque-Bera (JB):                0.461\n",
      "Skew:                           0.142   Prob(JB):                        0.794\n",
      "Kurtosis:                       2.218   Cond. No.                         645.\n",
      "==============================================================================\n",
      "\n",
      "Notes:\n",
      "[1] Standard Errors assume that the covariance matrix of the errors is correctly specified.\n"
     ]
    },
    {
     "name": "stderr",
     "output_type": "stream",
     "text": [
      "/home/xiao/anaconda3/lib/python3.9/site-packages/scipy/stats/_stats_py.py:1769: UserWarning: kurtosistest only valid for n>=20 ... continuing anyway, n=16\n",
      "  warnings.warn(\"kurtosistest only valid for n>=20 ... continuing \"\n"
     ]
    }
   ],
   "source": [
    "D = [0]*16\n",
    "D[11] = 1\n",
    "df['D'] = D\n",
    "\n",
    "mod = smf.ols(formula='Y~X+D',data=df)\n",
    "res = mod.fit()\n",
    "print(res.summary())"
   ]
  },
  {
   "cell_type": "code",
   "execution_count": 6,
   "id": "5863b489",
   "metadata": {},
   "outputs": [
    {
     "data": {
      "text/plain": [
       "<matplotlib.collections.PathCollection at 0x7f80588eb880>"
      ]
     },
     "execution_count": 6,
     "metadata": {},
     "output_type": "execute_result"
    },
    {
     "data": {
      "image/png": "[encoded data removed]",
      "text/plain": [
       "<Figure size 640x480 with 1 Axes>"
      ]
     },
     "metadata": {},
     "output_type": "display_data"
    }
   ],
   "source": [
    "import matplotlib.pyplot as plt\n",
    "\n",
    "data = pd.read_excel(r'economics6.xlsx',sheet_name=5,names=['year','Y','X'])\n",
    "data_list = data.values.tolist()\n",
    "\n",
    "X = []\n",
    "Y = []\n",
    "    \n",
    "for i in data_list:\n",
    "    X.append(i[2])\n",
    "    Y.append(i[1])\n",
    "    \n",
    "plt.scatter(X,Y)"
   ]
  },
  {
   "cell_type": "code",
   "execution_count": 7,
   "id": "c1dd70ce",
   "metadata": {},
   "outputs": [
    {
     "name": "stdout",
     "output_type": "stream",
     "text": [
      "                            OLS Regression Results                            \n",
      "==============================================================================\n",
      "Dep. Variable:                      Y   R-squared:                       0.782\n",
      "Model:                            OLS   Adj. R-squared:                  0.767\n",
      "Method:                 Least Squares   F-statistic:                     50.24\n",
      "Date:                Wed, 01 Feb 2023   Prob (F-statistic):           5.44e-06\n",
      "Time:                        23:14:49   Log-Likelihood:                -46.763\n",
      "No. Observations:                  16   AIC:                             97.53\n",
      "Df Residuals:                      14   BIC:                             99.07\n",
      "Df Model:                           1                                         \n",
      "Covariance Type:            nonrobust                                         \n",
      "==============================================================================\n",
      "                 coef    std err          t      P>|t|      [0.025      0.975]\n",
      "------------------------------------------------------------------------------\n",
      "Intercept     11.0085      9.965      1.105      0.288     -10.363      32.380\n",
      "X              0.9249      0.130      7.088      0.000       0.645       1.205\n",
      "==============================================================================\n",
      "Omnibus:                        3.968   Durbin-Watson:                   2.497\n",
      "Prob(Omnibus):                  0.138   Jarque-Bera (JB):                1.831\n",
      "Skew:                          -0.769   Prob(JB):                        0.400\n",
      "Kurtosis:                       3.619   Cond. No.                         633.\n",
      "==============================================================================\n",
      "\n",
      "Notes:\n",
      "[1] Standard Errors assume that the covariance matrix of the errors is correctly specified.\n"
     ]
    },
    {
     "name": "stderr",
     "output_type": "stream",
     "text": [
      "/home/xiao/anaconda3/lib/python3.9/site-packages/scipy/stats/_stats_py.py:1769: UserWarning: kurtosistest only valid for n>=20 ... continuing anyway, n=16\n",
      "  warnings.warn(\"kurtosistest only valid for n>=20 ... continuing \"\n"
     ]
    }
   ],
   "source": [
    "mod = smf.ols(formula='Y~X',data=df)\n",
    "res = mod.fit()\n",
    "print(res.summary())"
   ]
  },
  {
   "cell_type": "code",
   "execution_count": 11,
   "id": "23e6dcc1",
   "metadata": {},
   "outputs": [
    {
     "name": "stdout",
     "output_type": "stream",
     "text": [
      "                            OLS Regression Results                            \n",
      "==============================================================================\n",
      "Dep. Variable:                      Y   R-squared:                       0.782\n",
      "Model:                            OLS   Adj. R-squared:                  0.749\n",
      "Method:                 Least Squares   F-statistic:                     23.33\n",
      "Date:                Wed, 01 Feb 2023   Prob (F-statistic):           5.00e-05\n",
      "Time:                        23:16:29   Log-Likelihood:                -46.762\n",
      "No. Observations:                  16   AIC:                             99.52\n",
      "Df Residuals:                      13   BIC:                             101.8\n",
      "Df Model:                           2                                         \n",
      "Covariance Type:            nonrobust                                         \n",
      "==============================================================================\n",
      "                 coef    std err          t      P>|t|      [0.025      0.975]\n",
      "------------------------------------------------------------------------------\n",
      "Intercept     10.8802     13.638      0.798      0.439     -18.583      40.344\n",
      "X              0.9264      0.174      5.324      0.000       0.551       1.302\n",
      "D              0.0699      4.848      0.014      0.989     -10.404      10.544\n",
      "==============================================================================\n",
      "Omnibus:                        3.905   Durbin-Watson:                   2.495\n",
      "Prob(Omnibus):                  0.142   Jarque-Bera (JB):                1.795\n",
      "Skew:                          -0.762   Prob(JB):                        0.408\n",
      "Kurtosis:                       3.607   Cond. No.                         859.\n",
      "==============================================================================\n",
      "\n",
      "Notes:\n",
      "[1] Standard Errors assume that the covariance matrix of the errors is correctly specified.\n"
     ]
    },
    {
     "name": "stderr",
     "output_type": "stream",
     "text": [
      "/home/xiao/anaconda3/lib/python3.9/site-packages/scipy/stats/_stats_py.py:1769: UserWarning: kurtosistest only valid for n>=20 ... continuing anyway, n=16\n",
      "  warnings.warn(\"kurtosistest only valid for n>=20 ... continuing \"\n"
     ]
    }
   ],
   "source": [
    "D = [0]*16\n",
    "D[14] = 1\n",
    "D[15] = 1\n",
    "\n",
    "df['D'] = D\n",
    "\n",
    "mod = smf.ols(formula='Y~X+D',data=df)\n",
    "res = mod.fit()\n",
    "print(res.summary())"
   ]
  },
  {
   "cell_type": "code",
   "execution_count": 12,
   "id": "0284315d",
   "metadata": {},
   "outputs": [
    {
     "name": "stdout",
     "output_type": "stream",
     "text": [
      "    hour  gender_女性  gender_男性  hy_制造业  hy_非制造业  zw_管理工作  zw_非管理工作  size_中型企业  \\\n",
      "0      4          1          0       0        1        1         0          1   \n",
      "1      7          1          0       1        0        0         1          0   \n",
      "2      8          1          0       0        1        1         0          0   \n",
      "3     11          1          0       0        1        0         1          0   \n",
      "4     13          0          1       0        1        0         1          0   \n",
      "5     14          0          1       0        1        1         0          0   \n",
      "6     15          0          1       0        1        0         1          1   \n",
      "7     15          1          0       1        0        0         1          0   \n",
      "8     16          0          1       1        0        1         0          0   \n",
      "9     17          0          1       1        0        0         1          1   \n",
      "10    17          0          1       1        0        0         1          1   \n",
      "11    18          0          1       1        0        0         1          1   \n",
      "12    18          0          1       1        0        1         0          0   \n",
      "13    20          0          1       0        1        0         1          0   \n",
      "14    21          0          1       1        0        0         1          0   \n",
      "\n",
      "    size_大型企业  size_小型企业  \n",
      "0           0          0  \n",
      "1           0          1  \n",
      "2           1          0  \n",
      "3           1          0  \n",
      "4           0          1  \n",
      "5           1          0  \n",
      "6           0          0  \n",
      "7           1          0  \n",
      "8           1          0  \n",
      "9           0          0  \n",
      "10          0          0  \n",
      "11          0          0  \n",
      "12          1          0  \n",
      "13          1          0  \n",
      "14          1          0  \n"
     ]
    }
   ],
   "source": [
    "import pandas as pd\n",
    "\n",
    "data = pd.read_excel(r'economics6.xlsx',sheet_name=7)\n",
    "\n",
    "df = pd.DataFrame(data)\n",
    "\n",
    "df.columns=['hour','gender','hy','zw','size']\n",
    "\n",
    "df = pd.get_dummies(df,columns=['gender','hy','zw','size'])\n",
    "print(df)"
   ]
  },
  {
   "cell_type": "code",
   "execution_count": 13,
   "id": "3fc47f29",
   "metadata": {},
   "outputs": [
    {
     "name": "stdout",
     "output_type": "stream",
     "text": [
      "                            OLS Regression Results                            \n",
      "==============================================================================\n",
      "Dep. Variable:                   hour   R-squared:                       0.980\n",
      "Model:                            OLS   Adj. R-squared:                  0.969\n",
      "Method:                 Least Squares   F-statistic:                     89.60\n",
      "Date:                Wed, 01 Feb 2023   Prob (F-statistic):           2.13e-07\n",
      "Time:                        23:24:18   Log-Likelihood:                -15.123\n",
      "No. Observations:                  15   AIC:                             42.25\n",
      "Df Residuals:                       9   BIC:                             46.49\n",
      "Df Model:                           5                                         \n",
      "Covariance Type:            nonrobust                                         \n",
      "==============================================================================\n",
      "                 coef    std err          t      P>|t|      [0.025      0.975]\n",
      "------------------------------------------------------------------------------\n",
      "Intercept      5.3441      0.679      7.871      0.000       3.808       6.880\n",
      "gender_男性      7.1551      0.489     14.626      0.000       6.048       8.262\n",
      "hy_制造业         2.1567      0.459      4.700      0.001       1.119       3.195\n",
      "zw_管理工作       -4.3784      0.522     -8.387      0.000      -5.559      -3.197\n",
      "size_大型企业      6.6698      0.730      9.143      0.000       5.020       8.320\n",
      "size_中型企业      2.7135      0.741      3.661      0.005       1.037       4.390\n",
      "==============================================================================\n",
      "Omnibus:                        3.085   Durbin-Watson:                   2.238\n",
      "Prob(Omnibus):                  0.214   Jarque-Bera (JB):                1.136\n",
      "Skew:                           0.025   Prob(JB):                        0.567\n",
      "Kurtosis:                       1.652   Cond. No.                         7.74\n",
      "==============================================================================\n",
      "\n",
      "Notes:\n",
      "[1] Standard Errors assume that the covariance matrix of the errors is correctly specified.\n"
     ]
    },
    {
     "name": "stderr",
     "output_type": "stream",
     "text": [
      "/home/xiao/anaconda3/lib/python3.9/site-packages/scipy/stats/_stats_py.py:1769: UserWarning: kurtosistest only valid for n>=20 ... continuing anyway, n=15\n",
      "  warnings.warn(\"kurtosistest only valid for n>=20 ... continuing \"\n"
     ]
    }
   ],
   "source": [
    "mod = smf.ols(formula='hour~gender_男性+hy_制造业+zw_管理工作+size_大型企业+size_中型企业',data=df)\n",
    "res = mod.fit()\n",
    "print(res.summary())"
   ]
  },
  {
   "cell_type": "code",
   "execution_count": 14,
   "id": "d345080d",
   "metadata": {},
   "outputs": [
    {
     "name": "stdout",
     "output_type": "stream",
     "text": [
      "                            OLS Regression Results                            \n",
      "==============================================================================\n",
      "Dep. Variable:                      Y   R-squared:                       0.003\n",
      "Model:                            OLS   Adj. R-squared:                 -0.108\n",
      "Method:                 Least Squares   F-statistic:                   0.02820\n",
      "Date:                Wed, 01 Feb 2023   Prob (F-statistic):              0.870\n",
      "Time:                        23:26:21   Log-Likelihood:                -6.1849\n",
      "No. Observations:                  11   AIC:                             16.37\n",
      "Df Residuals:                       9   BIC:                             17.17\n",
      "Df Model:                           1                                         \n",
      "Covariance Type:            nonrobust                                         \n",
      "==============================================================================\n",
      "                 coef    std err          t      P>|t|      [0.025      0.975]\n",
      "------------------------------------------------------------------------------\n",
      "Intercept      6.9386      0.891      7.791      0.000       4.924       8.953\n",
      "X             -0.0022      0.013     -0.168      0.870      -0.031       0.027\n",
      "==============================================================================\n",
      "Omnibus:                        0.126   Durbin-Watson:                   0.477\n",
      "Prob(Omnibus):                  0.939   Jarque-Bera (JB):                0.260\n",
      "Skew:                           0.193   Prob(JB):                        0.878\n",
      "Kurtosis:                       2.354   Cond. No.                         435.\n",
      "==============================================================================\n",
      "\n",
      "Notes:\n",
      "[1] Standard Errors assume that the covariance matrix of the errors is correctly specified.\n"
     ]
    },
    {
     "name": "stderr",
     "output_type": "stream",
     "text": [
      "/home/xiao/anaconda3/lib/python3.9/site-packages/scipy/stats/_stats_py.py:1769: UserWarning: kurtosistest only valid for n>=20 ... continuing anyway, n=11\n",
      "  warnings.warn(\"kurtosistest only valid for n>=20 ... continuing \"\n"
     ]
    }
   ],
   "source": [
    "import pandas as pd\n",
    "\n",
    "data = pd.read_excel(r'economics6.xlsx',sheet_name=8,names=['year','Y','X'])\n",
    "\n",
    "col = ['Y','X']\n",
    "\n",
    "df = pd.DataFrame(data,columns=col)\n",
    "\n",
    "mod = smf.ols(formula='Y~X',data=df)\n",
    "res = mod.fit()\n",
    "print(res.summary())"
   ]
  },
  {
   "cell_type": "code",
   "execution_count": 19,
   "id": "e7800899",
   "metadata": {},
   "outputs": [
    {
     "name": "stdout",
     "output_type": "stream",
     "text": [
      "                            OLS Regression Results                            \n",
      "==============================================================================\n",
      "Dep. Variable:                      Y   R-squared:                       0.232\n",
      "Model:                            OLS   Adj. R-squared:                  0.040\n",
      "Method:                 Least Squares   F-statistic:                     1.211\n",
      "Date:                Wed, 01 Feb 2023   Prob (F-statistic):              0.347\n",
      "Time:                        23:31:34   Log-Likelihood:                -4.7480\n",
      "No. Observations:                  11   AIC:                             15.50\n",
      "Df Residuals:                       8   BIC:                             16.69\n",
      "Df Model:                           2                                         \n",
      "Covariance Type:            nonrobust                                         \n",
      "==============================================================================\n",
      "                 coef    std err          t      P>|t|      [0.025      0.975]\n",
      "------------------------------------------------------------------------------\n",
      "Intercept      5.0405      1.482      3.402      0.009       1.624       8.457\n",
      "X              0.0313      0.025      1.264      0.242      -0.026       0.088\n",
      "D             -0.8432      0.546     -1.545      0.161      -2.101       0.415\n",
      "==============================================================================\n",
      "Omnibus:                        0.114   Durbin-Watson:                   0.500\n",
      "Prob(Omnibus):                  0.944   Jarque-Bera (JB):                0.330\n",
      "Skew:                           0.071   Prob(JB):                        0.848\n",
      "Kurtosis:                       2.163   Cond. No.                         815.\n",
      "==============================================================================\n",
      "\n",
      "Notes:\n",
      "[1] Standard Errors assume that the covariance matrix of the errors is correctly specified.\n"
     ]
    },
    {
     "name": "stderr",
     "output_type": "stream",
     "text": [
      "/home/xiao/anaconda3/lib/python3.9/site-packages/scipy/stats/_stats_py.py:1769: UserWarning: kurtosistest only valid for n>=20 ... continuing anyway, n=11\n",
      "  warnings.warn(\"kurtosistest only valid for n>=20 ... continuing \"\n"
     ]
    }
   ],
   "source": [
    "D = [0,0,0,0,0,0,1,1,1,1,1]\n",
    "\n",
    "df['D'] = D\n",
    "\n",
    "X = []\n",
    "\n",
    "data_list = data.values.tolist()\n",
    "    \n",
    "for i in data_list:\n",
    "    X.append(i[2])\n",
    "\n",
    "import numpy as np\n",
    "\n",
    "D = np.array(D)\n",
    "X = np.array(X)\n",
    "\n",
    "mod = smf.ols(formula='Y~X+D',data=df)\n",
    "res = mod.fit()\n",
    "print(res.summary())"
   ]
  },
  {
   "cell_type": "code",
   "execution_count": 20,
   "id": "275cb7a7",
   "metadata": {},
   "outputs": [
    {
     "name": "stdout",
     "output_type": "stream",
     "text": [
      "                            OLS Regression Results                            \n",
      "==============================================================================\n",
      "Dep. Variable:                      Y   R-squared:                       0.964\n",
      "Model:                            OLS   Adj. R-squared:                  0.949\n",
      "Method:                 Least Squares   F-statistic:                     63.13\n",
      "Date:                Wed, 01 Feb 2023   Prob (F-statistic):           1.96e-05\n",
      "Time:                        23:31:42   Log-Likelihood:                 12.136\n",
      "No. Observations:                  11   AIC:                            -16.27\n",
      "Df Residuals:                       7   BIC:                            -14.68\n",
      "Df Model:                           3                                         \n",
      "Covariance Type:            nonrobust                                         \n",
      "==============================================================================\n",
      "                 coef    std err          t      P>|t|      [0.025      0.975]\n",
      "------------------------------------------------------------------------------\n",
      "Intercept      1.8571      0.432      4.295      0.004       0.835       2.880\n",
      "X              0.0848      0.007     11.715      0.000       0.068       0.102\n",
      "D              9.2072      0.848     10.863      0.000       7.203      11.211\n",
      "DX            -0.1406      0.012    -11.990      0.000      -0.168      -0.113\n",
      "==============================================================================\n",
      "Omnibus:                        0.745   Durbin-Watson:                   2.190\n",
      "Prob(Omnibus):                  0.689   Jarque-Bera (JB):                0.301\n",
      "Skew:                          -0.382   Prob(JB):                        0.860\n",
      "Kurtosis:                       2.729   Cond. No.                     2.40e+03\n",
      "==============================================================================\n",
      "\n",
      "Notes:\n",
      "[1] Standard Errors assume that the covariance matrix of the errors is correctly specified.\n",
      "[2] The condition number is large, 2.4e+03. This might indicate that there are\n",
      "strong multicollinearity or other numerical problems.\n"
     ]
    },
    {
     "name": "stderr",
     "output_type": "stream",
     "text": [
      "/home/xiao/anaconda3/lib/python3.9/site-packages/scipy/stats/_stats_py.py:1769: UserWarning: kurtosistest only valid for n>=20 ... continuing anyway, n=11\n",
      "  warnings.warn(\"kurtosistest only valid for n>=20 ... continuing \"\n"
     ]
    }
   ],
   "source": [
    "df['DX'] = D*X\n",
    "\n",
    "mod = smf.ols(formula='Y~X+D+DX',data=df)\n",
    "res = mod.fit()\n",
    "print(res.summary())"
   ]
  },
  {
   "cell_type": "code",
   "execution_count": null,
   "id": "128556a6",
   "metadata": {},
   "outputs": [],
   "source": []
  }
 ],
 "metadata": {
  "kernelspec": {
   "display_name": "Python 3 (ipykernel)",
   "language": "python",
   "name": "python3"
  },
  "language_info": {
   "codemirror_mode": {
    "name": "ipython",
    "version": 3
   },
   "file_extension": ".py",
   "mimetype": "text/x-python",
   "name": "python",
   "nbconvert_exporter": "python",
   "pygments_lexer": "ipython3",
   "version": "3.9.13"
  }
 },
 "nbformat": 4,
 "nbformat_minor": 5
}
