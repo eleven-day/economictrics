{
 "cells": [
  {
   "cell_type": "code",
   "execution_count": 21,
   "id": "9b7de58e",
   "metadata": {},
   "outputs": [
    {
     "data": {
      "text/plain": [
       "<matplotlib.collections.PathCollection at 0x7f103cd59e20>"
      ]
     },
     "execution_count": 21,
     "metadata": {},
     "output_type": "execute_result"
    },
    {
     "data": {
      "image/png": "[encoded data removed]",
      "text/plain": [
       "<Figure size 640x480 with 1 Axes>"
      ]
     },
     "metadata": {},
     "output_type": "display_data"
    }
   ],
   "source": [
    "import pandas as pd\n",
    "import matplotlib.pyplot as plt\n",
    "\n",
    "data = pd.read_excel(r'economics6.xlsx',sheet_name=0,names=['year','Y','X'])\n",
    "data_list = data.values.tolist()\n",
    "\n",
    "X = []\n",
    "Y = []\n",
    "    \n",
    "for i in data_list:\n",
    "    X.append(i[2])\n",
    "    Y.append(i[1])\n",
    "    \n",
    "plt.scatter(X,Y)"
   ]
  },
  {
   "cell_type": "code",
   "execution_count": 22,
   "id": "64ee9431",
   "metadata": {},
   "outputs": [
    {
     "name": "stdout",
     "output_type": "stream",
     "text": [
      "                            OLS Regression Results                            \n",
      "==============================================================================\n",
      "Dep. Variable:                      Y   R-squared:                       0.325\n",
      "Model:                            OLS   Adj. R-squared:                  0.251\n",
      "Method:                 Least Squares   F-statistic:                     4.342\n",
      "Date:                Wed, 01 Feb 2023   Prob (F-statistic):             0.0668\n",
      "Time:                        00:25:28   Log-Likelihood:                -39.776\n",
      "No. Observations:                  11   AIC:                             83.55\n",
      "Df Residuals:                       9   BIC:                             84.35\n",
      "Df Model:                           1                                         \n",
      "Covariance Type:            nonrobust                                         \n",
      "==============================================================================\n",
      "                 coef    std err          t      P>|t|      [0.025      0.975]\n",
      "------------------------------------------------------------------------------\n",
      "Intercept    -48.2242     73.417     -0.657      0.528    -214.305     117.857\n",
      "X              0.7152      0.343      2.084      0.067      -0.061       1.492\n",
      "==============================================================================\n",
      "Omnibus:                       19.565   Durbin-Watson:                   2.739\n",
      "Prob(Omnibus):                  0.000   Jarque-Bera (JB):               13.632\n",
      "Skew:                          -2.017   Prob(JB):                      0.00110\n",
      "Kurtosis:                       6.669   Cond. No.                     5.24e+03\n",
      "==============================================================================\n",
      "\n",
      "Notes:\n",
      "[1] Standard Errors assume that the covariance matrix of the errors is correctly specified.\n",
      "[2] The condition number is large, 5.24e+03. This might indicate that there are\n",
      "strong multicollinearity or other numerical problems.\n"
     ]
    },
    {
     "name": "stderr",
     "output_type": "stream",
     "text": [
      "/home/xiao/anaconda3/lib/python3.9/site-packages/scipy/stats/_stats_py.py:1769: UserWarning: kurtosistest only valid for n>=20 ... continuing anyway, n=11\n",
      "  warnings.warn(\"kurtosistest only valid for n>=20 ... continuing \"\n"
     ]
    }
   ],
   "source": [
    "import statsmodels.formula.api as smf\n",
    "\n",
    "col = ['X','Y']\n",
    "\n",
    "df = pd.DataFrame(data,columns=col)\n",
    "\n",
    "mod = smf.ols(formula='Y~X',data=df)\n",
    "res = mod.fit()\n",
    "print(res.summary())"
   ]
  },
  {
   "cell_type": "code",
   "execution_count": 23,
   "id": "81a13b41",
   "metadata": {},
   "outputs": [
    {
     "name": "stdout",
     "output_type": "stream",
     "text": [
      "                            OLS Regression Results                            \n",
      "==============================================================================\n",
      "Dep. Variable:                      Y   R-squared:                       0.894\n",
      "Model:                            OLS   Adj. R-squared:                  0.867\n",
      "Method:                 Least Squares   F-statistic:                     33.73\n",
      "Date:                Wed, 01 Feb 2023   Prob (F-statistic):           0.000126\n",
      "Time:                        00:28:55   Log-Likelihood:                -29.598\n",
      "No. Observations:                  11   AIC:                             65.20\n",
      "Df Residuals:                       8   BIC:                             66.39\n",
      "Df Model:                           2                                         \n",
      "Covariance Type:            nonrobust                                         \n",
      "==============================================================================\n",
      "                 coef    std err          t      P>|t|      [0.025      0.975]\n",
      "------------------------------------------------------------------------------\n",
      "Intercept    -40.2923     30.893     -1.304      0.228    -111.533      30.948\n",
      "X              0.6903      0.144      4.782      0.001       0.357       1.023\n",
      "D            -28.7477      4.389     -6.550      0.000     -38.868     -18.627\n",
      "==============================================================================\n",
      "Omnibus:                        3.605   Durbin-Watson:                   1.829\n",
      "Prob(Omnibus):                  0.165   Jarque-Bera (JB):                1.231\n",
      "Skew:                           0.785   Prob(JB):                        0.540\n",
      "Kurtosis:                       3.472   Cond. No.                     5.24e+03\n",
      "==============================================================================\n",
      "\n",
      "Notes:\n",
      "[1] Standard Errors assume that the covariance matrix of the errors is correctly specified.\n",
      "[2] The condition number is large, 5.24e+03. This might indicate that there are\n",
      "strong multicollinearity or other numerical problems.\n"
     ]
    },
    {
     "name": "stderr",
     "output_type": "stream",
     "text": [
      "/home/xiao/anaconda3/lib/python3.9/site-packages/scipy/stats/_stats_py.py:1769: UserWarning: kurtosistest only valid for n>=20 ... continuing anyway, n=11\n",
      "  warnings.warn(\"kurtosistest only valid for n>=20 ... continuing \"\n"
     ]
    }
   ],
   "source": [
    "import statsmodels.formula.api as smf\n",
    "\n",
    "col = ['X','Y']\n",
    "\n",
    "df = pd.DataFrame(data,columns=col)\n",
    "D = [0,0,0,0,0,0,0,0,1,0,0]\n",
    "df['D'] = D\n",
    "\n",
    "mod = smf.ols(formula='Y~X+D',data=df)\n",
    "res = mod.fit()\n",
    "print(res.summary())"
   ]
  },
  {
   "cell_type": "code",
   "execution_count": 25,
   "id": "db4db2f2",
   "metadata": {},
   "outputs": [
    {
     "name": "stdout",
     "output_type": "stream",
     "text": [
      "                            OLS Regression Results                            \n",
      "==============================================================================\n",
      "Dep. Variable:                      Y   R-squared:                       0.740\n",
      "Model:                            OLS   Adj. R-squared:                  0.723\n",
      "Method:                 Least Squares   F-statistic:                     42.66\n",
      "Date:                Wed, 01 Feb 2023   Prob (F-statistic):           9.50e-06\n",
      "Time:                        00:45:01   Log-Likelihood:                -15.364\n",
      "No. Observations:                  17   AIC:                             34.73\n",
      "Df Residuals:                      15   BIC:                             36.40\n",
      "Df Model:                           1                                         \n",
      "Covariance Type:            nonrobust                                         \n",
      "==============================================================================\n",
      "                 coef    std err          t      P>|t|      [0.025      0.975]\n",
      "------------------------------------------------------------------------------\n",
      "Intercept     -8.5246      3.093     -2.756      0.015     -15.118      -1.932\n",
      "X              0.3489      0.053      6.531      0.000       0.235       0.463\n",
      "==============================================================================\n",
      "Omnibus:                        1.085   Durbin-Watson:                   1.209\n",
      "Prob(Omnibus):                  0.581   Jarque-Bera (JB):                0.526\n",
      "Skew:                          -0.428   Prob(JB):                        0.769\n",
      "Kurtosis:                       2.900   Cond. No.                     1.16e+03\n",
      "==============================================================================\n",
      "\n",
      "Notes:\n",
      "[1] Standard Errors assume that the covariance matrix of the errors is correctly specified.\n",
      "[2] The condition number is large, 1.16e+03. This might indicate that there are\n",
      "strong multicollinearity or other numerical problems.\n"
     ]
    },
    {
     "name": "stderr",
     "output_type": "stream",
     "text": [
      "/home/xiao/anaconda3/lib/python3.9/site-packages/scipy/stats/_stats_py.py:1769: UserWarning: kurtosistest only valid for n>=20 ... continuing anyway, n=17\n",
      "  warnings.warn(\"kurtosistest only valid for n>=20 ... continuing \"\n"
     ]
    }
   ],
   "source": [
    "data = pd.read_excel(r'economics6.xlsx',sheet_name=1,names=['time','Y','X'])\n",
    "\n",
    "col = ['X','Y']\n",
    "\n",
    "df = pd.DataFrame(data,columns=col)\n",
    "\n",
    "mod = smf.ols(formula='Y~X',data=df)\n",
    "res = mod.fit()\n",
    "print(res.summary())"
   ]
  },
  {
   "cell_type": "code",
   "execution_count": 41,
   "id": "7b8ba58a",
   "metadata": {},
   "outputs": [
    {
     "name": "stdout",
     "output_type": "stream",
     "text": [
      "[1, 0, 0, 0, 1, 0, 0, 0, 1, 0, 0, 0, 1, 0, 0, 0, 1]\n",
      "[0, 1, 0, 0, 0, 1, 0, 0, 0, 1, 0, 0, 0, 1, 0, 0, 0]\n",
      "[0, 0, 1, 0, 0, 0, 1, 0, 0, 0, 1, 0, 0, 0, 1, 0, 0]\n"
     ]
    }
   ],
   "source": [
    "D1 = [0]*17\n",
    "D2 = [0]*17\n",
    "D3 = [0]*17\n",
    "\n",
    "for i in range(5):\n",
    "    D1[i*4] = 1\n",
    "    \n",
    "for i in range(4):\n",
    "    D2[1+i*4] = 1\n",
    "    D3[2+i*4] = 1\n",
    "    \n",
    "print(D1)\n",
    "print(D2)\n",
    "print(D3)"
   ]
  },
  {
   "cell_type": "code",
   "execution_count": 42,
   "id": "8dc44bb3",
   "metadata": {},
   "outputs": [
    {
     "name": "stdout",
     "output_type": "stream",
     "text": [
      "                            OLS Regression Results                            \n",
      "==============================================================================\n",
      "Dep. Variable:                      Y   R-squared:                       0.995\n",
      "Model:                            OLS   Adj. R-squared:                  0.994\n",
      "Method:                 Least Squares   F-statistic:                     652.9\n",
      "Date:                Wed, 01 Feb 2023   Prob (F-statistic):           6.38e-14\n",
      "Time:                        01:07:38   Log-Likelihood:                 18.984\n",
      "No. Observations:                  17   AIC:                            -27.97\n",
      "Df Residuals:                      12   BIC:                            -23.80\n",
      "Df Model:                           4                                         \n",
      "Covariance Type:            nonrobust                                         \n",
      "==============================================================================\n",
      "                 coef    std err          t      P>|t|      [0.025      0.975]\n",
      "------------------------------------------------------------------------------\n",
      "Intercept      9.0681      1.168      7.766      0.000       6.524      11.612\n",
      "X              0.0683      0.019      3.649      0.003       0.028       0.109\n",
      "D1            -2.5875      0.136    -19.088      0.000      -2.883      -2.292\n",
      "D2            -1.8009      0.140    -12.866      0.000      -2.106      -1.496\n",
      "D3            -0.7659      0.108     -7.105      0.000      -1.001      -0.531\n",
      "==============================================================================\n",
      "Omnibus:                        0.095   Durbin-Watson:                   2.383\n",
      "Prob(Omnibus):                  0.953   Jarque-Bera (JB):                0.252\n",
      "Skew:                          -0.144   Prob(JB):                        0.881\n",
      "Kurtosis:                       2.477   Cond. No.                     3.00e+03\n",
      "==============================================================================\n",
      "\n",
      "Notes:\n",
      "[1] Standard Errors assume that the covariance matrix of the errors is correctly specified.\n",
      "[2] The condition number is large,  3e+03. This might indicate that there are\n",
      "strong multicollinearity or other numerical problems.\n"
     ]
    },
    {
     "name": "stderr",
     "output_type": "stream",
     "text": [
      "/home/xiao/anaconda3/lib/python3.9/site-packages/scipy/stats/_stats_py.py:1769: UserWarning: kurtosistest only valid for n>=20 ... continuing anyway, n=17\n",
      "  warnings.warn(\"kurtosistest only valid for n>=20 ... continuing \"\n"
     ]
    }
   ],
   "source": [
    "df['D1'] = D1\n",
    "df['D2'] = D2\n",
    "df['D3'] = D3\n",
    "\n",
    "mod = smf.ols(formula='Y~X+D1+D2+D3',data=df)\n",
    "res = mod.fit()\n",
    "print(res.summary())"
   ]
  },
  {
   "cell_type": "code",
   "execution_count": 6,
   "id": "aec3aee8",
   "metadata": {},
   "outputs": [
    {
     "name": "stdout",
     "output_type": "stream",
     "text": [
      "    income  gender_女性  gender_男性  age_30多岁  age_40多岁  education_初中毕业  \\\n",
      "0       25          1          0         0         1               1   \n",
      "1       26          0          1         1         0               1   \n",
      "2       28          1          0         0         1               0   \n",
      "3       30          1          0         0         1               0   \n",
      "4       31          0          1         1         0               1   \n",
      "5       32          0          1         1         0               0   \n",
      "6       34          1          0         1         0               0   \n",
      "7       36          0          1         1         0               0   \n",
      "8       39          1          0         1         0               0   \n",
      "9       40          0          1         1         0               0   \n",
      "10      43          0          1         1         0               0   \n",
      "11      46          0          1         1         0               0   \n",
      "12      52          0          1         0         1               1   \n",
      "13      54          1          0         0         1               0   \n",
      "14      55          0          1         0         1               0   \n",
      "\n",
      "    education_大学毕业  education_高中毕业  size_中企业  size_大企业  size_小企业  \n",
      "0                0               0         0         0         1  \n",
      "1                0               0         0         0         1  \n",
      "2                0               1         0         0         1  \n",
      "3                0               1         0         0         1  \n",
      "4                0               0         1         0         0  \n",
      "5                0               1         0         0         1  \n",
      "6                1               0         1         0         0  \n",
      "7                0               1         1         0         0  \n",
      "8                1               0         0         1         0  \n",
      "9                0               1         1         0         0  \n",
      "10               1               0         0         0         1  \n",
      "11               1               0         1         0         0  \n",
      "12               0               0         0         1         0  \n",
      "13               1               0         0         1         0  \n",
      "14               0               1         0         1         0  \n"
     ]
    }
   ],
   "source": [
    "import pandas as pd\n",
    "\n",
    "data = pd.read_excel(r'economics6.xlsx',sheet_name=2)\n",
    "\n",
    "df = pd.DataFrame(data)\n",
    "\n",
    "df.columns=['income','gender','age','education','size']\n",
    "\n",
    "df = pd.get_dummies(df,columns=['gender','age','education','size'])\n",
    "print(df)"
   ]
  },
  {
   "cell_type": "code",
   "execution_count": 9,
   "id": "0fa56488",
   "metadata": {},
   "outputs": [
    {
     "name": "stdout",
     "output_type": "stream",
     "text": [
      "                            OLS Regression Results                            \n",
      "==============================================================================\n",
      "Dep. Variable:                 income   R-squared:                       0.983\n",
      "Model:                            OLS   Adj. R-squared:                  0.971\n",
      "Method:                 Least Squares   F-statistic:                     78.58\n",
      "Date:                Wed, 01 Feb 2023   Prob (F-statistic):           1.13e-06\n",
      "Time:                        22:29:02   Log-Likelihood:                -24.696\n",
      "No. Observations:                  15   AIC:                             63.39\n",
      "Df Residuals:                       8   BIC:                             68.35\n",
      "Df Model:                           6                                         \n",
      "Covariance Type:            nonrobust                                         \n",
      "==================================================================================\n",
      "                     coef    std err          t      P>|t|      [0.025      0.975]\n",
      "----------------------------------------------------------------------------------\n",
      "Intercept         11.9661      1.695      7.061      0.000       8.058      15.874\n",
      "gender_男性         14.3848      1.239     11.612      0.000      11.528      17.241\n",
      "age_40多岁          12.6425      1.520      8.320      0.000       9.138      16.147\n",
      "education_大学毕业    15.8730      1.467     10.821      0.000      12.490      19.256\n",
      "education_高中毕业     5.0828      1.119      4.541      0.002       2.502       7.664\n",
      "size_大企业          12.1524      1.326      9.163      0.000       9.094      15.211\n",
      "size_中企业           5.5437      1.196      4.635      0.002       2.785       8.302\n",
      "==============================================================================\n",
      "Omnibus:                        1.718   Durbin-Watson:                   2.283\n",
      "Prob(Omnibus):                  0.423   Jarque-Bera (JB):                0.809\n",
      "Skew:                           0.569   Prob(JB):                        0.667\n",
      "Kurtosis:                       2.976   Cond. No.                         8.54\n",
      "==============================================================================\n",
      "\n",
      "Notes:\n",
      "[1] Standard Errors assume that the covariance matrix of the errors is correctly specified.\n"
     ]
    },
    {
     "name": "stderr",
     "output_type": "stream",
     "text": [
      "/home/xiao/anaconda3/lib/python3.9/site-packages/scipy/stats/_stats_py.py:1769: UserWarning: kurtosistest only valid for n>=20 ... continuing anyway, n=15\n",
      "  warnings.warn(\"kurtosistest only valid for n>=20 ... continuing \"\n"
     ]
    }
   ],
   "source": [
    "import statsmodels.formula.api as smf\n",
    "\n",
    "mod = smf.ols(formula='income~gender_男性+age_40多岁+education_大学毕业+education_高中毕业+size_大企业+size_中企业',data=df)\n",
    "res = mod.fit()\n",
    "print(res.summary())"
   ]
  },
  {
   "cell_type": "code",
   "execution_count": 38,
   "id": "21389c34",
   "metadata": {},
   "outputs": [
    {
     "data": {
      "text/plain": [
       "<matplotlib.collections.PathCollection at 0x7f9d48457d60>"
      ]
     },
     "execution_count": 38,
     "metadata": {},
     "output_type": "execute_result"
    },
    {
     "data": {
      "image/png": "[encoded data removed]",
      "text/plain": [
       "<Figure size 640x480 with 1 Axes>"
      ]
     },
     "metadata": {},
     "output_type": "display_data"
    }
   ],
   "source": [
    "import pandas as pd\n",
    "import matplotlib.pyplot as plt\n",
    "\n",
    "data = pd.read_excel(r'economics6.xlsx',sheet_name=3,names=['year','Y','X'])\n",
    "data_list = data.values.tolist()\n",
    "\n",
    "X = []\n",
    "Y = []\n",
    "    \n",
    "for i in data_list:\n",
    "    X.append(i[2])\n",
    "    Y.append(i[1])\n",
    "    \n",
    "plt.scatter(X,Y)"
   ]
  },
  {
   "cell_type": "code",
   "execution_count": 41,
   "id": "b1343d55",
   "metadata": {},
   "outputs": [
    {
     "name": "stdout",
     "output_type": "stream",
     "text": [
      "[  0   0   0   0   0   0   0   0 150 156 161 169 174 177 183]\n"
     ]
    }
   ],
   "source": [
    "D= [0]*15\n",
    "\n",
    "for i in range(len(X)):\n",
    "    if i >= 8:\n",
    "        D[i] = 1\n",
    "        \n",
    "import numpy as np\n",
    "\n",
    "D = np.array(D)\n",
    "X = np.array(X)\n",
    "\n",
    "print(D*X)"
   ]
  },
  {
   "cell_type": "code",
   "execution_count": 31,
   "id": "8ffd87de",
   "metadata": {},
   "outputs": [
    {
     "name": "stdout",
     "output_type": "stream",
     "text": [
      "                            OLS Regression Results                            \n",
      "==============================================================================\n",
      "Dep. Variable:                      Y   R-squared:                       0.351\n",
      "Model:                            OLS   Adj. R-squared:                  0.301\n",
      "Method:                 Least Squares   F-statistic:                     7.023\n",
      "Date:                Wed, 01 Feb 2023   Prob (F-statistic):             0.0200\n",
      "Time:                        22:52:16   Log-Likelihood:                -55.192\n",
      "No. Observations:                  15   AIC:                             114.4\n",
      "Df Residuals:                      13   BIC:                             115.8\n",
      "Df Model:                           1                                         \n",
      "Covariance Type:            nonrobust                                         \n",
      "==============================================================================\n",
      "                 coef    std err          t      P>|t|      [0.025      0.975]\n",
      "------------------------------------------------------------------------------\n",
      "Intercept     82.4535     15.901      5.185      0.000      48.101     116.806\n",
      "X              0.2846      0.107      2.650      0.020       0.053       0.517\n",
      "==============================================================================\n",
      "Omnibus:                        2.210   Durbin-Watson:                   0.688\n",
      "Prob(Omnibus):                  0.331   Jarque-Bera (JB):                1.578\n",
      "Skew:                           0.621   Prob(JB):                        0.454\n",
      "Kurtosis:                       2.009   Cond. No.                         886.\n",
      "==============================================================================\n",
      "\n",
      "Notes:\n",
      "[1] Standard Errors assume that the covariance matrix of the errors is correctly specified.\n"
     ]
    },
    {
     "name": "stderr",
     "output_type": "stream",
     "text": [
      "/home/xiao/anaconda3/lib/python3.9/site-packages/scipy/stats/_stats_py.py:1769: UserWarning: kurtosistest only valid for n>=20 ... continuing anyway, n=15\n",
      "  warnings.warn(\"kurtosistest only valid for n>=20 ... continuing \"\n"
     ]
    }
   ],
   "source": [
    "import statsmodels.formula.api as smf\n",
    "\n",
    "col = ['X','Y']\n",
    "\n",
    "df = pd.DataFrame(data,columns=col)\n",
    "\n",
    "mod = smf.ols(formula='Y~X',data=df)\n",
    "res = mod.fit()\n",
    "print(res.summary())"
   ]
  },
  {
   "cell_type": "code",
   "execution_count": 42,
   "id": "c2d53b5d",
   "metadata": {},
   "outputs": [
    {
     "name": "stdout",
     "output_type": "stream",
     "text": [
      "                            OLS Regression Results                            \n",
      "==============================================================================\n",
      "Dep. Variable:                      Y   R-squared:                       0.985\n",
      "Model:                            OLS   Adj. R-squared:                  0.983\n",
      "Method:                 Least Squares   F-statistic:                     397.1\n",
      "Date:                Wed, 01 Feb 2023   Prob (F-statistic):           1.09e-11\n",
      "Time:                        23:02:12   Log-Likelihood:                -26.877\n",
      "No. Observations:                  15   AIC:                             59.75\n",
      "Df Residuals:                      12   BIC:                             61.88\n",
      "Df Model:                           2                                         \n",
      "Covariance Type:            nonrobust                                         \n",
      "==============================================================================\n",
      "                 coef    std err          t      P>|t|      [0.025      0.975]\n",
      "------------------------------------------------------------------------------\n",
      "Intercept     17.0948      3.825      4.469      0.001       8.760      25.430\n",
      "X              0.8386      0.030     28.163      0.000       0.774       0.904\n",
      "DX            -0.1992      0.009    -22.614      0.000      -0.218      -0.180\n",
      "==============================================================================\n",
      "Omnibus:                        1.625   Durbin-Watson:                   2.475\n",
      "Prob(Omnibus):                  0.444   Jarque-Bera (JB):                0.980\n",
      "Skew:                          -0.613   Prob(JB):                        0.613\n",
      "Kurtosis:                       2.749   Cond. No.                     1.62e+03\n",
      "==============================================================================\n",
      "\n",
      "Notes:\n",
      "[1] Standard Errors assume that the covariance matrix of the errors is correctly specified.\n",
      "[2] The condition number is large, 1.62e+03. This might indicate that there are\n",
      "strong multicollinearity or other numerical problems.\n"
     ]
    },
    {
     "name": "stderr",
     "output_type": "stream",
     "text": [
      "/home/xiao/anaconda3/lib/python3.9/site-packages/scipy/stats/_stats_py.py:1769: UserWarning: kurtosistest only valid for n>=20 ... continuing anyway, n=15\n",
      "  warnings.warn(\"kurtosistest only valid for n>=20 ... continuing \"\n"
     ]
    }
   ],
   "source": [
    "import statsmodels.formula.api as smf\n",
    "\n",
    "col = ['X','Y']\n",
    "\n",
    "df = pd.DataFrame(data,columns=col)\n",
    "df['DX'] = D*X\n",
    "\n",
    "mod = smf.ols(formula='Y~X+DX',data=df)\n",
    "res = mod.fit()\n",
    "print(res.summary())"
   ]
  },
  {
   "cell_type": "code",
   "execution_count": null,
   "id": "3b801af7",
   "metadata": {},
   "outputs": [],
   "source": []
  }
 ],
 "metadata": {
  "kernelspec": {
   "display_name": "Python 3 (ipykernel)",
   "language": "python",
   "name": "python3"
  },
  "language_info": {
   "codemirror_mode": {
    "name": "ipython",
    "version": 3
   },
   "file_extension": ".py",
   "mimetype": "text/x-python",
   "name": "python",
   "nbconvert_exporter": "python",
   "pygments_lexer": "ipython3",
   "version": "3.9.13"
  }
 },
 "nbformat": 4,
 "nbformat_minor": 5
}
