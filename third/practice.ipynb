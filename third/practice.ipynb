{
 "cells": [
  {
   "cell_type": "code",
   "execution_count": 10,
   "id": "6e0b6dea",
   "metadata": {},
   "outputs": [
    {
     "name": "stdout",
     "output_type": "stream",
     "text": [
      "(0.8866116582379558, 3.0107266435986046, 0.9982603841844989)\n",
      "(0.9487193342699665, -15.497838538852239, 0.9906426401675866)\n",
      "(1.0307650904508099, -49.243468900149594, 0.9969969648310738)\n"
     ]
    }
   ],
   "source": [
    "import pandas as pd\n",
    "import numpy as np\n",
    "\n",
    "df = pd.read_excel(r'economics3.xlsx',sheet_name=6)\n",
    "df_list = df.values.tolist()\n",
    "\n",
    "x = []\n",
    "y = []\n",
    "\n",
    "for i in df_list:\n",
    "    x.append(i[1])\n",
    "    y.append(i[2])\n",
    "    \n",
    "x1 = []\n",
    "y1 = []\n",
    "\n",
    "for i in range(10):\n",
    "    x1.append(x[i])\n",
    "    y1.append(y[i])\n",
    "    \n",
    "x2 = []\n",
    "y2 = []\n",
    "\n",
    "for i in range(10,20):\n",
    "    x2.append(x[i])\n",
    "    y2.append(y[i])\n",
    "    \n",
    "x3 = []\n",
    "y3 = []\n",
    "\n",
    "for i in range(20,36):\n",
    "    x3.append(x[i])\n",
    "    y3.append(y[i])\n",
    "    \n",
    "x1 = np.array(x1)\n",
    "y1 = np.array(y1)\n",
    "x2 = np.array(x2)\n",
    "y2 = np.array(y2)\n",
    "x3 = np.array(x3)\n",
    "y3 = np.array(y3)\n",
    "    \n",
    "def ols(x,y):\n",
    "    a = (len(x)*sum(x*y) - sum(x)*sum(y))/(len(x)*sum(x**2) - sum(x)*sum(x))\n",
    "    b = (sum(y) - a*sum(x))/len(x)\n",
    "    r2 = ((len(x)*sum(x*y) - sum(x)*sum(y))**2)/((len(x)*sum(x**2) - sum(x)*sum(x))*(len(y)*sum(y**2) - sum(y)*sum(y)))\n",
    "    return a,b,r2\n",
    "\n",
    "print(ols(x1,y1))\n",
    "print(ols(x2,y2))\n",
    "print(ols(x3,y3))"
   ]
  },
  {
   "cell_type": "code",
   "execution_count": 13,
   "id": "e13743dd",
   "metadata": {},
   "outputs": [
    {
     "name": "stdout",
     "output_type": "stream",
     "text": [
      "(20391.05612518267, 3.702619248450544, 0.985608752833476)\n"
     ]
    },
    {
     "data": {
      "image/png": "[encoded data removed]",
      "text/plain": [
       "<Figure size 640x480 with 1 Axes>"
      ]
     },
     "metadata": {},
     "output_type": "display_data"
    }
   ],
   "source": [
    "import matplotlib.pyplot as plt\n",
    "import pandas as pd\n",
    "import numpy as np\n",
    "\n",
    "df = pd.read_excel(r'economics3.xlsx',sheet_name=7)\n",
    "df_list = df.values.tolist()\n",
    "\n",
    "x = []\n",
    "y = []\n",
    "\n",
    "for i in df_list:\n",
    "    x.append(i[2])\n",
    "    y.append(i[1])\n",
    "    \n",
    "plt.scatter(x,y)\n",
    "\n",
    "x = 1/np.array(x)\n",
    "y = np.array(y)\n",
    "\n",
    "print(ols(x,y))"
   ]
  },
  {
   "cell_type": "code",
   "execution_count": 40,
   "id": "b252cd37",
   "metadata": {},
   "outputs": [
    {
     "name": "stdout",
     "output_type": "stream",
     "text": [
      "(-0.6233736729164572, 2.167773589971338, 0.9882180497745248)\n"
     ]
    }
   ],
   "source": [
    "import pandas as pd\n",
    "import numpy as np\n",
    "\n",
    "df = pd.read_excel(r'economics3.xlsx',sheet_name=8,header=0)\n",
    "df_list = df.values.tolist()\n",
    "\n",
    "t = np.arange(1,10)\n",
    "y = []\n",
    "\n",
    "for i in df_list:\n",
    "    y.append(i[1])\n",
    "    \n",
    "y = np.array(y)\n",
    "\n",
    "y = np.log(64/y-1)\n",
    "\n",
    "print(ols(t,y))"
   ]
  },
  {
   "cell_type": "code",
   "execution_count": 68,
   "id": "90f19a07",
   "metadata": {},
   "outputs": [
    {
     "name": "stdout",
     "output_type": "stream",
     "text": [
      "(-0.03182050493781966, 1.051815329782938, 0.9953886775094545)\n",
      "1430.5144385909605\n"
     ]
    }
   ],
   "source": [
    "import pandas as pd\n",
    "import numpy as np\n",
    "\n",
    "df = pd.read_excel(r'economics3.xlsx',sheet_name=9)\n",
    "df_list = df.values.tolist()\n",
    "\n",
    "t = np.arange(1,48)\n",
    "y = []\n",
    "\n",
    "for i in df_list:\n",
    "    y.append(i[1])\n",
    "    \n",
    "y = np.array(y)\n",
    "\n",
    "y = np.log(2000/y-1)\n",
    "\n",
    "print(ols(t,y))\n",
    "\n",
    "a = -0.03182050493781966\n",
    "b = 1.051815329782938\n",
    "\n",
    "pop = 2000/(1+np.exp(62*a+b))\n",
    "print(pop)"
   ]
  },
  {
   "cell_type": "code",
   "execution_count": null,
   "id": "73189b7f",
   "metadata": {},
   "outputs": [],
   "source": []
  }
 ],
 "metadata": {
  "kernelspec": {
   "display_name": "Python 3 (ipykernel)",
   "language": "python",
   "name": "python3"
  },
  "language_info": {
   "codemirror_mode": {
    "name": "ipython",
    "version": 3
   },
   "file_extension": ".py",
   "mimetype": "text/x-python",
   "name": "python",
   "nbconvert_exporter": "python",
   "pygments_lexer": "ipython3",
   "version": "3.9.13"
  }
 },
 "nbformat": 4,
 "nbformat_minor": 5
}
