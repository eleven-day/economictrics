{
 "cells": [
  {
   "cell_type": "code",
   "execution_count": 2,
   "metadata": {},
   "outputs": [
    {
     "name": "stdout",
     "output_type": "stream",
     "text": [
      "                            OLS Regression Results                            \n",
      "==============================================================================\n",
      "Dep. Variable:                      Y   R-squared:                       0.975\n",
      "Model:                            OLS   Adj. R-squared:                  0.974\n",
      "Method:                 Least Squares   F-statistic:                     900.5\n",
      "Date:                Fri, 03 Feb 2023   Prob (F-statistic):           6.01e-20\n",
      "Time:                        13:29:41   Log-Likelihood:                -83.028\n",
      "No. Observations:                  25   AIC:                             170.1\n",
      "Df Residuals:                      23   BIC:                             172.5\n",
      "Df Model:                           1                                         \n",
      "Covariance Type:            nonrobust                                         \n",
      "==============================================================================\n",
      "                 coef    std err          t      P>|t|      [0.025      0.975]\n",
      "------------------------------------------------------------------------------\n",
      "Intercept    -68.1603     15.265     -4.465      0.000     -99.739     -36.582\n",
      "X              1.5297      0.051     30.008      0.000       1.424       1.635\n",
      "==============================================================================\n",
      "Omnibus:                        0.757   Durbin-Watson:                   0.348\n",
      "Prob(Omnibus):                  0.685   Jarque-Bera (JB):                0.661\n",
      "Skew:                          -0.361   Prob(JB):                        0.719\n",
      "Kurtosis:                       2.662   Cond. No.                     3.27e+03\n",
      "==============================================================================\n",
      "\n",
      "Notes:\n",
      "[1] Standard Errors assume that the covariance matrix of the errors is correctly specified.\n",
      "[2] The condition number is large, 3.27e+03. This might indicate that there are\n",
      "strong multicollinearity or other numerical problems.\n"
     ]
    }
   ],
   "source": [
    "import pandas as pd\n",
    "import statsmodels.formula.api as smf\n",
    "\n",
    "data = pd.read_excel(r'economics7.xlsx',sheet_name=0,names=['year','X','Y'])\n",
    "\n",
    "col = ['X','Y']\n",
    "\n",
    "df = pd.DataFrame(data,columns=col)\n",
    "\n",
    "mod = smf.ols(formula='Y~X',data=df)\n",
    "res = mod.fit()\n",
    "print(res.summary())"
   ]
  },
  {
   "cell_type": "code",
   "execution_count": 3,
   "metadata": {},
   "outputs": [
    {
     "name": "stdout",
     "output_type": "stream",
     "text": [
      "                            OLS Regression Results                            \n",
      "==============================================================================\n",
      "Dep. Variable:                      Y   R-squared:                       0.984\n",
      "Model:                            OLS   Adj. R-squared:                  0.983\n",
      "Method:                 Least Squares   F-statistic:                     1110.\n",
      "Date:                Fri, 03 Feb 2023   Prob (F-statistic):           1.26e-17\n",
      "Time:                        13:33:18   Log-Likelihood:                -70.480\n",
      "No. Observations:                  20   AIC:                             145.0\n",
      "Df Residuals:                      18   BIC:                             147.0\n",
      "Df Model:                           1                                         \n",
      "Covariance Type:            nonrobust                                         \n",
      "==============================================================================\n",
      "                 coef    std err          t      P>|t|      [0.025      0.975]\n",
      "------------------------------------------------------------------------------\n",
      "Intercept     95.9232      5.838     16.431      0.000      83.658     108.189\n",
      "X              3.5053      0.105     33.314      0.000       3.284       3.726\n",
      "==============================================================================\n",
      "Omnibus:                        2.399   Durbin-Watson:                   0.600\n",
      "Prob(Omnibus):                  0.301   Jarque-Bera (JB):                1.815\n",
      "Skew:                          -0.583   Prob(JB):                        0.404\n",
      "Kurtosis:                       2.096   Cond. No.                         167.\n",
      "==============================================================================\n",
      "\n",
      "Notes:\n",
      "[1] Standard Errors assume that the covariance matrix of the errors is correctly specified.\n"
     ]
    }
   ],
   "source": [
    "data = pd.read_excel(r'economics7.xlsx',sheet_name=1,names=['year','X','Y'])\n",
    "\n",
    "col = ['X','Y']\n",
    "\n",
    "df = pd.DataFrame(data,columns=col)\n",
    "\n",
    "mod = smf.ols(formula='Y~X',data=df)\n",
    "res = mod.fit()\n",
    "print(res.summary())"
   ]
  },
  {
   "cell_type": "code",
   "execution_count": null,
   "metadata": {},
   "outputs": [],
   "source": []
  }
 ],
 "metadata": {
  "kernelspec": {
   "display_name": "Python 3",
   "language": "python",
   "name": "python3"
  },
  "language_info": {
   "codemirror_mode": {
    "name": "ipython",
    "version": 3
   },
   "file_extension": ".py",
   "mimetype": "text/x-python",
   "name": "python",
   "nbconvert_exporter": "python",
   "pygments_lexer": "ipython3",
   "version": "3.10.9"
  },
  "orig_nbformat": 4,
  "vscode": {
   "interpreter": {
    "hash": "df8f00dd8ea7b191efb4b3f40f1de1f35d3a339e703b43ac54152176488b2ac1"
   }
  }
 },
 "nbformat": 4,
 "nbformat_minor": 2
}
