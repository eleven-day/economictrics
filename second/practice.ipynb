{
 "cells": [
  {
   "cell_type": "code",
   "execution_count": 8,
   "id": "7d2376f6",
   "metadata": {},
   "outputs": [
    {
     "name": "stdout",
     "output_type": "stream",
     "text": [
      "0.2852\n"
     ]
    }
   ],
   "source": [
    "import pandas as pd\n",
    "import numpy as np\n",
    "\n",
    "file_path = r'economics2.xlsx'\n",
    "df = pd.read_excel(file_path, sheet_name = 6,header=1)\n",
    "df_list = df.values.tolist()\n",
    "\n",
    "data = []\n",
    "s = 0\n",
    "\n",
    "for i in df_list:\n",
    "    data.append(i[2])\n",
    "\n",
    "data = np.array(data)/sum(data)\n",
    "\n",
    "data_gini = []\n",
    "\n",
    "for i in range(len(data)):\n",
    "    s = s + data[i]\n",
    "    data_gini.append(s)\n",
    "\n",
    "gini = 1 - 0.2*(2*sum(data_gini) - 1)\n",
    "print(gini)"
   ]
  },
  {
   "cell_type": "code",
   "execution_count": 14,
   "id": "7a1f6d61",
   "metadata": {},
   "outputs": [
    {
     "name": "stdout",
     "output_type": "stream",
     "text": [
      "0.1470559062218214\n"
     ]
    }
   ],
   "source": [
    "df = pd.read_excel(r'economics2.xlsx',sheet_name=7,header=1)\n",
    "\n",
    "df_list = df.values.tolist()\n",
    "\n",
    "h = []\n",
    "inc = []\n",
    "s = 0\n",
    "\n",
    "for i in df_list:\n",
    "    h.append(i[1])\n",
    "for i in df_list:\n",
    "    inc.append(i[2])\n",
    "    \n",
    "inc = np.array(inc)/sum(inc)\n",
    "\n",
    "inc_gini = []\n",
    "\n",
    "for i in range(len(inc)):\n",
    "    s = s + inc[i]\n",
    "    inc_gini.append(s)\n",
    "    \n",
    "inc_ginis = []\n",
    "\n",
    "for i in range(len(inc_gini)):\n",
    "    t = inc_gini[i-1] + inc_gini[i]\n",
    "    inc_ginis.append(t)\n",
    "    \n",
    "inc_ginis[0] = inc_ginis[0] - 1\n",
    "\n",
    "inc_ginis = np.array(inc_ginis)\n",
    "\n",
    "gini = 1 - sum(h*inc_ginis)\n",
    "print(gini)"
   ]
  },
  {
   "cell_type": "code",
   "execution_count": 16,
   "id": "1266e2d5",
   "metadata": {},
   "outputs": [
    {
     "name": "stdout",
     "output_type": "stream",
     "text": [
      "[62630  4332  2418 27784  2932  1793  8488  7811  4936  1084  1052]\n",
      "[100.           6.91681303   3.8607696   44.36212678   4.68146256\n",
      "   2.86284528  13.55261057  12.47165895   7.88120709   1.73079994\n",
      "   1.67970621]\n",
      "[108.24590816   7.48716708   4.17912511  48.02018701   5.06749166\n",
      "   3.09891287  14.67014639  13.50006049   8.53108419   1.87352011\n",
      "   1.81821324]\n"
     ]
    }
   ],
   "source": [
    "df = pd.read_excel(r'economics2.xlsx',sheet_name=8)\n",
    "df_list = df.values.tolist()\n",
    "\n",
    "y0 = []\n",
    "yg = []\n",
    "\n",
    "for i in df_list:\n",
    "    y0.append(i[1])\n",
    "for i in df_list:\n",
    "    yg.append(i[2])\n",
    "    \n",
    "y0 = np.array(y0)\n",
    "yg = np.array(yg)\n",
    "y = yg - y0\n",
    "\n",
    "print(y)\n",
    "print((y/y[0])*100)\n",
    "print((y/y0[0])*100)"
   ]
  },
  {
   "cell_type": "code",
   "execution_count": 20,
   "id": "8fc423b0",
   "metadata": {},
   "outputs": [
    {
     "name": "stdout",
     "output_type": "stream",
     "text": [
      "1.0225243866390776\n",
      "0.986243451086124\n",
      "1.004220085388978\n",
      "0.9647945610404965\n",
      "0.9305619796484736\n",
      "0.9475236866041528\n"
     ]
    }
   ],
   "source": [
    "df = pd.read_excel(r'economics2.xlsx',sheet_name=9,header=1)\n",
    "df_list = df.values.tolist()\n",
    "\n",
    "p0 = []\n",
    "q0 = []\n",
    "p1 = []\n",
    "q1 = []\n",
    "\n",
    "for i in df_list:\n",
    "    p0.append(i[1])\n",
    "for i in df_list:\n",
    "    q0.append(i[2])\n",
    "for i in df_list:\n",
    "    p1.append(i[3])\n",
    "for i in df_list:\n",
    "    q1.append(i[4])\n",
    "\n",
    "p0 = np.array(p0)    \n",
    "q1 = np.array(q1)\n",
    "p1 = np.array(p1)\n",
    "q1 = np.array(q1)\n",
    "\n",
    "print(sum(p1*q0)/sum(p0*q0))\n",
    "print(sum(p1*q1)/sum(p0*q1))\n",
    "print(pow((sum(p1*q0)/sum(p0*q0))*(sum(p1*q1)/sum(p0*q1)),0.5))\n",
    "\n",
    "print(sum(p0*q1)/sum(p0*q0))\n",
    "print(sum(p1*q1)/sum(p1*q0))\n",
    "print(pow((sum(p0*q1)/sum(p0*q0))*(sum(p1*q1)/sum(p1*q0)),0.5))"
   ]
  },
  {
   "cell_type": "code",
   "execution_count": null,
   "id": "e7322473",
   "metadata": {},
   "outputs": [],
   "source": []
  }
 ],
 "metadata": {
  "kernelspec": {
   "display_name": "Python 3 (ipykernel)",
   "language": "python",
   "name": "python3"
  },
  "language_info": {
   "codemirror_mode": {
    "name": "ipython",
    "version": 3
   },
   "file_extension": ".py",
   "mimetype": "text/x-python",
   "name": "python",
   "nbconvert_exporter": "python",
   "pygments_lexer": "ipython3",
   "version": "3.9.13"
  }
 },
 "nbformat": 4,
 "nbformat_minor": 5
}
