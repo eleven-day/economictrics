{
 "cells": [
  {
   "cell_type": "code",
   "execution_count": 7,
   "id": "7a9eb28a",
   "metadata": {},
   "outputs": [
    {
     "name": "stdout",
     "output_type": "stream",
     "text": [
      "1.0962755778006772\n",
      "1.089801482491267\n",
      "1.0930337368563463\n"
     ]
    }
   ],
   "source": [
    "import pandas as pd\n",
    "import numpy as np\n",
    "\n",
    "df = pd.read_excel(r'economics2.xlsx',sheet_name=5,header=1)\n",
    "df_list = df.values.tolist()\n",
    "\n",
    "p0 = []\n",
    "q0 = []\n",
    "p1 = []\n",
    "q1 = []\n",
    "\n",
    "for i in df_list:\n",
    "    p0.append(i[1])\n",
    "for i in df_list:\n",
    "    q0.append(i[2])\n",
    "for i in df_list:\n",
    "    p1.append(i[3])\n",
    "for i in df_list:\n",
    "    q1.append(i[4])\n",
    "\n",
    "p0 = np.array(p0)    \n",
    "q1 = np.array(q1)\n",
    "p1 = np.array(p1)\n",
    "q1 = np.array(q1)\n",
    "\n",
    "print(sum(p1*q0)/sum(p0*q0))\n",
    "print(sum(p1*q1)/sum(p0*q1))\n",
    "print(pow((sum(p1*q0)/sum(p0*q0))*(sum(p1*q1)/sum(p0*q1)),0.5))"
   ]
  },
  {
   "cell_type": "code",
   "execution_count": 8,
   "id": "62d3a013",
   "metadata": {},
   "outputs": [
    {
     "name": "stdout",
     "output_type": "stream",
     "text": [
      "0.8639040188429266\n",
      "0.8588022022290855\n",
      "0.8613493332538562\n"
     ]
    }
   ],
   "source": [
    "print(sum(p0*q1)/sum(p0*q0))\n",
    "print(sum(p1*q1)/sum(p1*q0))\n",
    "print(pow((sum(p0*q1)/sum(p0*q0))*(sum(p1*q1)/sum(p1*q0)),0.5))\n"
   ]
  },
  {
   "cell_type": "code",
   "execution_count": null,
   "id": "8c87e5cb",
   "metadata": {},
   "outputs": [],
   "source": []
  }
 ],
 "metadata": {
  "kernelspec": {
   "display_name": "Python 3 (ipykernel)",
   "language": "python",
   "name": "python3"
  },
  "language_info": {
   "codemirror_mode": {
    "name": "ipython",
    "version": 3
   },
   "file_extension": ".py",
   "mimetype": "text/x-python",
   "name": "python",
   "nbconvert_exporter": "python",
   "pygments_lexer": "ipython3",
   "version": "3.9.13"
  }
 },
 "nbformat": 4,
 "nbformat_minor": 5
}
