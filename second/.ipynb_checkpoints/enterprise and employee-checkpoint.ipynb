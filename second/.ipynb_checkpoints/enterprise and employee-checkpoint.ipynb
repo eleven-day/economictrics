{
 "cells": [
  {
   "cell_type": "code",
   "execution_count": 11,
   "id": "a9faf730",
   "metadata": {},
   "outputs": [
    {
     "name": "stdout",
     "output_type": "stream",
     "text": [
      "0.5473524765840947\n"
     ]
    }
   ],
   "source": [
    "import pandas as pd\n",
    "import numpy as np\n",
    "\n",
    "df = pd.read_excel(r'economics2.xlsx',sheet_name=3,header=1)\n",
    "df_list = df.values.tolist()\n",
    "\n",
    "en = []\n",
    "em = []\n",
    "\n",
    "for i in df_list:\n",
    "    en.append(i[1])\n",
    "for i in df_list:\n",
    "    em.append(i[2])\n",
    "    \n",
    "s = 0\n",
    "    \n",
    "en = np.array(en)/sum(en)\n",
    "\n",
    "en_gini = []\n",
    "\n",
    "for i in range(len(en)):\n",
    "    s = s + en[i]\n",
    "    en_gini.append(s)\n",
    "    \n",
    "s = 0\n",
    "\n",
    "em = np.array(em)/sum(em)\n",
    "\n",
    "em_gini = []\n",
    "\n",
    "for i in range(len(em)):\n",
    "    s = s + em[i]\n",
    "    em_gini.append(s)\n",
    "    \n",
    "em_ginis = []\n",
    "\n",
    "for i in range(len(em_gini)):\n",
    "    t = em_gini[i-1] + em_gini[i]\n",
    "    em_ginis.append(t)\n",
    "    \n",
    "em_ginis[0] = em_ginis[0] - 1\n",
    "\n",
    "em_ginis = np.array(em_ginis)\n",
    "\n",
    "gini = 1 - sum(en*em_ginis)\n",
    "\n",
    "print(gini)"
   ]
  },
  {
   "cell_type": "code",
   "execution_count": null,
   "id": "be37e40e",
   "metadata": {},
   "outputs": [],
   "source": []
  }
 ],
 "metadata": {
  "kernelspec": {
   "display_name": "Python 3 (ipykernel)",
   "language": "python",
   "name": "python3"
  },
  "language_info": {
   "codemirror_mode": {
    "name": "ipython",
    "version": 3
   },
   "file_extension": ".py",
   "mimetype": "text/x-python",
   "name": "python",
   "nbconvert_exporter": "python",
   "pygments_lexer": "ipython3",
   "version": "3.9.13"
  }
 },
 "nbformat": 4,
 "nbformat_minor": 5
}
