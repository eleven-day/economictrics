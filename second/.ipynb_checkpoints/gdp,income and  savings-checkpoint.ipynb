{
 "cells": [
  {
   "cell_type": "code",
   "execution_count": 72,
   "id": "550d30bf",
   "metadata": {},
   "outputs": [
    {
     "name": "stdout",
     "output_type": "stream",
     "text": [
      "0.30799999999999994\n"
     ]
    }
   ],
   "source": [
    "import pandas as pd\n",
    "import numpy as np\n",
    "\n",
    "df = pd.read_excel(r'economics2.xlsx',sheet_name=1,usecols=\"B:J\")\n",
    "df_list = df.values.tolist()\n",
    "\n",
    "data = []\n",
    "s = 0\n",
    "\n",
    "for i in df_list:\n",
    "    data.append(i[1])\n",
    "\n",
    "data = np.array(data)/100\n",
    "\n",
    "data_gini = []\n",
    "\n",
    "for i in range(len(data)):\n",
    "    s = s + data[i]\n",
    "    data_gini.append(s)\n",
    "\n",
    "gini = 1 - 0.2*(2*sum(data_gini) - 1)\n",
    "print(gini)"
   ]
  },
  {
   "cell_type": "code",
   "execution_count": 73,
   "id": "f8af1cc3",
   "metadata": {},
   "outputs": [
    {
     "data": {
      "text/plain": [
       "[<matplotlib.lines.Line2D at 0x7f27b604c610>]"
      ]
     },
     "execution_count": 73,
     "metadata": {},
     "output_type": "execute_result"
    },
    {
     "data": {
      "image/png": "[encoded data removed]",
      "text/plain": [
       "<Figure size 640x480 with 1 Axes>"
      ]
     },
     "metadata": {},
     "output_type": "display_data"
    }
   ],
   "source": [
    "import pandas as pd\n",
    "import numpy as np\n",
    "import matplotlib.pyplot as plt\n",
    "\n",
    "df = pd.read_excel(r'economics2.xlsx',sheet_name=2,usecols=\"B:C,F:G\")\n",
    "df_list = df.values.tolist()\n",
    "\n",
    "h1 = []\n",
    "inc = []\n",
    "\n",
    "h2 = []\n",
    "chu = []\n",
    "\n",
    "for i in df_list:\n",
    "    h1.append(i[0])\n",
    "for i in df_list:\n",
    "    inc.append(i[1])\n",
    "for i in df_list:\n",
    "    h2.append(i[2])\n",
    "for i in df_list:\n",
    "    chu.append(i[3])\n",
    "    \n",
    "h1 = np.array(h1)\n",
    "h2 = np.array(h2)\n",
    "inc = np.array(inc)\n",
    "chu = np.array(chu)\n",
    "\n",
    "s = 0\n",
    "    \n",
    "h1 = np.array(h1)/sum(h1)\n",
    "\n",
    "h1_gini = []\n",
    "\n",
    "for i in range(len(h1)):\n",
    "    s = s + h1[i]\n",
    "    h1_gini.append(s)\n",
    "    \n",
    "s = 0\n",
    "\n",
    "h2 = np.array(h2)/sum(h2)\n",
    "\n",
    "h2_gini = []\n",
    "\n",
    "for i in range(len(h2)):\n",
    "    s = s + h2[i]\n",
    "    h2_gini.append(s)\n",
    "    \n",
    "s = 0\n",
    "\n",
    "inc = inc*h1\n",
    "\n",
    "inc = np.array(inc)/sum(inc)\n",
    "\n",
    "inc_gini = []\n",
    "\n",
    "for i in range(len(inc)):\n",
    "    s = s + inc[i]\n",
    "    inc_gini.append(s)\n",
    "    \n",
    "s = 0\n",
    "\n",
    "chu = chu*h2\n",
    "\n",
    "chu = np.array(chu)/sum(chu)\n",
    "\n",
    "chu_gini = []\n",
    "\n",
    "for i in range(len(chu)):\n",
    "    s = s + chu[i]\n",
    "    chu_gini.append(s)\n",
    "    \n",
    "plt.plot(h1_gini,inc_gini)\n",
    "plt.plot(h2_gini,chu_gini)"
   ]
  },
  {
   "cell_type": "code",
   "execution_count": 62,
   "id": "546ea0a5",
   "metadata": {},
   "outputs": [
    {
     "name": "stdout",
     "output_type": "stream",
     "text": [
      "0.2995134355641734\n"
     ]
    }
   ],
   "source": [
    "inc_ginis = []\n",
    "\n",
    "for i in range(len(inc_gini)):\n",
    "    t = inc_gini[i-1] + inc_gini[i]\n",
    "    inc_ginis.append(t)\n",
    "    \n",
    "inc_ginis[0] = inc_ginis[0] - 1\n",
    "\n",
    "inc_ginis = np.array(inc_ginis)\n",
    "\n",
    "gini1 = 1 - sum(h1*inc_ginis)\n",
    "print(gini1)"
   ]
  },
  {
   "cell_type": "code",
   "execution_count": 70,
   "id": "4e2a7ede",
   "metadata": {},
   "outputs": [
    {
     "name": "stdout",
     "output_type": "stream",
     "text": [
      "0.5271151599881144\n"
     ]
    }
   ],
   "source": [
    "chu_ginis = []\n",
    "\n",
    "for i in range(len(chu_gini)):\n",
    "    t = chu_gini[i-1] + chu_gini[i]\n",
    "    chu_ginis.append(t)\n",
    "    \n",
    "chu_ginis[0] = chu_ginis[0] - 1\n",
    "\n",
    "chu_ginis = np.array(chu_ginis)\n",
    "\n",
    "gini2 = 1 - sum(h2*chu_ginis)\n",
    "\n",
    "print(gini2)"
   ]
  },
  {
   "cell_type": "code",
   "execution_count": null,
   "id": "cc40b447",
   "metadata": {},
   "outputs": [],
   "source": []
  }
 ],
 "metadata": {
  "kernelspec": {
   "display_name": "Python 3 (ipykernel)",
   "language": "python",
   "name": "python3"
  },
  "language_info": {
   "codemirror_mode": {
    "name": "ipython",
    "version": 3
   },
   "file_extension": ".py",
   "mimetype": "text/x-python",
   "name": "python",
   "nbconvert_exporter": "python",
   "pygments_lexer": "ipython3",
   "version": "3.9.13"
  }
 },
 "nbformat": 4,
 "nbformat_minor": 5
}
