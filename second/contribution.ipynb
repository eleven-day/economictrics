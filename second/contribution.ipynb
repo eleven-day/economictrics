{
 "cells": [
  {
   "cell_type": "code",
   "execution_count": 6,
   "id": "2b89078e",
   "metadata": {},
   "outputs": [
    {
     "name": "stdout",
     "output_type": "stream",
     "text": [
      "[31.48 25.03  4.96 -0.98 10.78 -8.31]\n",
      "[100.          79.51080051  15.75603558  -3.11308767  34.24396442\n",
      " -26.39771283]\n",
      "[ 7.32127076  5.82120099  1.15354203 -0.22791758  2.50709335 -1.93264803]\n"
     ]
    }
   ],
   "source": [
    "import pandas as pd\n",
    "import numpy as np\n",
    "\n",
    "df = pd.read_excel(r'economics2.xlsx',sheet_name=4)\n",
    "df_list = df.values.tolist()\n",
    "\n",
    "y0 = []\n",
    "yg = []\n",
    "\n",
    "for i in df_list:\n",
    "    y0.append(i[1])\n",
    "for i in df_list:\n",
    "    yg.append(i[2])\n",
    "    \n",
    "y0 = np.array(y0)\n",
    "yg = np.array(yg)\n",
    "y = yg - y0\n",
    "\n",
    "print(y)\n",
    "print((y/y[0])*100)\n",
    "print((y/y0[0])*100)"
   ]
  },
  {
   "cell_type": "code",
   "execution_count": null,
   "id": "559487f0",
   "metadata": {},
   "outputs": [],
   "source": []
  }
 ],
 "metadata": {
  "kernelspec": {
   "display_name": "Python 3 (ipykernel)",
   "language": "python",
   "name": "python3"
  },
  "language_info": {
   "codemirror_mode": {
    "name": "ipython",
    "version": 3
   },
   "file_extension": ".py",
   "mimetype": "text/x-python",
   "name": "python",
   "nbconvert_exporter": "python",
   "pygments_lexer": "ipython3",
   "version": "3.9.13"
  }
 },
 "nbformat": 4,
 "nbformat_minor": 5
}
