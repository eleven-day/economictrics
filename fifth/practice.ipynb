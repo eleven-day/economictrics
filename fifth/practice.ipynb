{
 "cells": [
  {
   "cell_type": "code",
   "execution_count": null,
   "id": "4997184a",
   "metadata": {},
   "outputs": [],
   "source": [
    "import pandas as pd\n",
    "import statsmodels.formula.api as smf\n",
    "\n",
    "data = pd.read_excel(r'economics5.xlsx',sheet_name=3,names = ['year','EX','EY','FX','FY','IX','IY'])\n",
    "\n",
    "col = ['EX','EY','FX','FY','IX','IY']\n",
    "\n",
    "df = pd.DataFrame(data,columns=col)\n",
    "\n",
    "mod = smf.ols(formula='EY~EX',data=df)\n",
    "res = mod.fit()\n",
    "print(res.summary())"
   ]
  },
  {
   "cell_type": "code",
   "execution_count": null,
   "id": "c2f185f5",
   "metadata": {},
   "outputs": [],
   "source": [
    "mod = smf.ols(formula='FY~FX',data=df)\n",
    "res = mod.fit()\n",
    "print(res.summary())"
   ]
  },
  {
   "cell_type": "code",
   "execution_count": null,
   "id": "e554e1d5",
   "metadata": {},
   "outputs": [],
   "source": [
    "mod = smf.ols(formula='IY~IX',data=df)\n",
    "res = mod.fit()\n",
    "print(res.summary())"
   ]
  },
  {
   "cell_type": "code",
   "execution_count": null,
   "id": "1b80f7fd",
   "metadata": {},
   "outputs": [],
   "source": [
    "data = pd.read_excel(r'economics5.xlsx',sheet_name=4,names=['area','Y','X1','X2'])\n",
    "\n",
    "col = ['Y','X1','X2']\n",
    "\n",
    "df = pd.DataFrame(data,columns=col)\n",
    "\n",
    "mod = smf.ols(formula='Y~X1+X2',data=df)\n",
    "res = mod.fit()\n",
    "print(res.summary())"
   ]
  },
  {
   "cell_type": "code",
   "execution_count": null,
   "id": "d32ff91e",
   "metadata": {},
   "outputs": [],
   "source": []
  }
 ],
 "metadata": {
  "kernelspec": {
   "display_name": "Python 3",
   "language": "python",
   "name": "python3"
  },
  "language_info": {
   "codemirror_mode": {
    "name": "ipython",
    "version": 3
   },
   "file_extension": ".py",
   "mimetype": "text/x-python",
   "name": "python",
   "nbconvert_exporter": "python",
   "pygments_lexer": "ipython3",
   "version": "3.10.9"
  },
  "vscode": {
   "interpreter": {
    "hash": "df8f00dd8ea7b191efb4b3f40f1de1f35d3a339e703b43ac54152176488b2ac1"
   }
  }
 },
 "nbformat": 4,
 "nbformat_minor": 5
}
