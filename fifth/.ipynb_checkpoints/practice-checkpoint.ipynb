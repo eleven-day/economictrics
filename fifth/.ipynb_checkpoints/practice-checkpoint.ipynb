{
 "cells": [
  {
   "cell_type": "code",
   "execution_count": 4,
   "id": "4997184a",
   "metadata": {},
   "outputs": [
    {
     "name": "stdout",
     "output_type": "stream",
     "text": [
      "                            OLS Regression Results                            \n",
      "==============================================================================\n",
      "Dep. Variable:                     EY   R-squared:                       0.956\n",
      "Model:                            OLS   Adj. R-squared:                  0.951\n",
      "Method:                 Least Squares   F-statistic:                     194.4\n",
      "Date:                Sat, 28 Jan 2023   Prob (F-statistic):           2.12e-07\n",
      "Time:                        10:53:35   Log-Likelihood:                -30.968\n",
      "No. Observations:                  11   AIC:                             65.94\n",
      "Df Residuals:                       9   BIC:                             66.73\n",
      "Df Model:                           1                                         \n",
      "Covariance Type:            nonrobust                                         \n",
      "==============================================================================\n",
      "                 coef    std err          t      P>|t|      [0.025      0.975]\n",
      "------------------------------------------------------------------------------\n",
      "Intercept   -170.6245     22.382     -7.623      0.000    -221.256    -119.992\n",
      "EX             0.5824      0.042     13.944      0.000       0.488       0.677\n",
      "==============================================================================\n",
      "Omnibus:                        0.742   Durbin-Watson:                   1.131\n",
      "Prob(Omnibus):                  0.690   Jarque-Bera (JB):                0.668\n",
      "Skew:                           0.452   Prob(JB):                        0.716\n",
      "Kurtosis:                       2.199   Cond. No.                     8.91e+03\n",
      "==============================================================================\n",
      "\n",
      "Notes:\n",
      "[1] Standard Errors assume that the covariance matrix of the errors is correctly specified.\n",
      "[2] The condition number is large, 8.91e+03. This might indicate that there are\n",
      "strong multicollinearity or other numerical problems.\n"
     ]
    },
    {
     "name": "stderr",
     "output_type": "stream",
     "text": [
      "/home/xiao/anaconda3/lib/python3.9/site-packages/scipy/stats/_stats_py.py:1769: UserWarning: kurtosistest only valid for n>=20 ... continuing anyway, n=11\n",
      "  warnings.warn(\"kurtosistest only valid for n>=20 ... continuing \"\n"
     ]
    }
   ],
   "source": [
    "import pandas as pd\n",
    "import statsmodels.formula.api as smf\n",
    "\n",
    "data = pd.read_excel(r'economics5.xlsx',sheet_name=3,names = ['year','EX','EY','FX','FY','IX','IY'])\n",
    "\n",
    "col = ['EX','EY','FX','FY','IX','IY']\n",
    "\n",
    "df = pd.DataFrame(data,columns=col)\n",
    "\n",
    "mod = smf.ols(formula='EY~EX',data=df)\n",
    "res = mod.fit()\n",
    "print(res.summary())"
   ]
  },
  {
   "cell_type": "code",
   "execution_count": 5,
   "id": "c2f185f5",
   "metadata": {},
   "outputs": [
    {
     "name": "stdout",
     "output_type": "stream",
     "text": [
      "                            OLS Regression Results                            \n",
      "==============================================================================\n",
      "Dep. Variable:                     FY   R-squared:                       0.996\n",
      "Model:                            OLS   Adj. R-squared:                  0.995\n",
      "Method:                 Least Squares   F-statistic:                     2126.\n",
      "Date:                Sat, 28 Jan 2023   Prob (F-statistic):           5.31e-12\n",
      "Time:                        10:53:55   Log-Likelihood:                -13.784\n",
      "No. Observations:                  11   AIC:                             31.57\n",
      "Df Residuals:                       9   BIC:                             32.36\n",
      "Df Model:                           1                                         \n",
      "Covariance Type:            nonrobust                                         \n",
      "==============================================================================\n",
      "                 coef    std err          t      P>|t|      [0.025      0.975]\n",
      "------------------------------------------------------------------------------\n",
      "Intercept   -101.8260      4.182    -24.350      0.000    -111.286     -92.366\n",
      "FX             0.5598      0.012     46.108      0.000       0.532       0.587\n",
      "==============================================================================\n",
      "Omnibus:                        3.876   Durbin-Watson:                   1.794\n",
      "Prob(Omnibus):                  0.144   Jarque-Bera (JB):                1.174\n",
      "Skew:                           0.206   Prob(JB):                        0.556\n",
      "Kurtosis:                       1.453   Cond. No.                     5.10e+03\n",
      "==============================================================================\n",
      "\n",
      "Notes:\n",
      "[1] Standard Errors assume that the covariance matrix of the errors is correctly specified.\n",
      "[2] The condition number is large, 5.1e+03. This might indicate that there are\n",
      "strong multicollinearity or other numerical problems.\n"
     ]
    },
    {
     "name": "stderr",
     "output_type": "stream",
     "text": [
      "/home/xiao/anaconda3/lib/python3.9/site-packages/scipy/stats/_stats_py.py:1769: UserWarning: kurtosistest only valid for n>=20 ... continuing anyway, n=11\n",
      "  warnings.warn(\"kurtosistest only valid for n>=20 ... continuing \"\n"
     ]
    }
   ],
   "source": [
    "mod = smf.ols(formula='FY~FX',data=df)\n",
    "res = mod.fit()\n",
    "print(res.summary())"
   ]
  },
  {
   "cell_type": "code",
   "execution_count": 6,
   "id": "e554e1d5",
   "metadata": {},
   "outputs": [
    {
     "name": "stdout",
     "output_type": "stream",
     "text": [
      "                            OLS Regression Results                            \n",
      "==============================================================================\n",
      "Dep. Variable:                     IY   R-squared:                       0.973\n",
      "Model:                            OLS   Adj. R-squared:                  0.970\n",
      "Method:                 Least Squares   F-statistic:                     324.4\n",
      "Date:                Sat, 28 Jan 2023   Prob (F-statistic):           2.28e-08\n",
      "Time:                        10:54:19   Log-Likelihood:                -10.760\n",
      "No. Observations:                  11   AIC:                             25.52\n",
      "Df Residuals:                       9   BIC:                             26.31\n",
      "Df Model:                           1                                         \n",
      "Covariance Type:            nonrobust                                         \n",
      "==============================================================================\n",
      "                 coef    std err          t      P>|t|      [0.025      0.975]\n",
      "------------------------------------------------------------------------------\n",
      "Intercept    -38.9306      3.476    -11.201      0.000     -46.793     -31.068\n",
      "IX             0.4891      0.027     18.010      0.000       0.428       0.551\n",
      "==============================================================================\n",
      "Omnibus:                        0.208   Durbin-Watson:                   1.654\n",
      "Prob(Omnibus):                  0.901   Jarque-Bera (JB):                0.380\n",
      "Skew:                          -0.186   Prob(JB):                        0.827\n",
      "Kurtosis:                       2.169   Cond. No.                     2.07e+03\n",
      "==============================================================================\n",
      "\n",
      "Notes:\n",
      "[1] Standard Errors assume that the covariance matrix of the errors is correctly specified.\n",
      "[2] The condition number is large, 2.07e+03. This might indicate that there are\n",
      "strong multicollinearity or other numerical problems.\n"
     ]
    },
    {
     "name": "stderr",
     "output_type": "stream",
     "text": [
      "/home/xiao/anaconda3/lib/python3.9/site-packages/scipy/stats/_stats_py.py:1769: UserWarning: kurtosistest only valid for n>=20 ... continuing anyway, n=11\n",
      "  warnings.warn(\"kurtosistest only valid for n>=20 ... continuing \"\n"
     ]
    }
   ],
   "source": [
    "mod = smf.ols(formula='IY~IX',data=df)\n",
    "res = mod.fit()\n",
    "print(res.summary())"
   ]
  },
  {
   "cell_type": "code",
   "execution_count": 9,
   "id": "1b80f7fd",
   "metadata": {},
   "outputs": [
    {
     "name": "stdout",
     "output_type": "stream",
     "text": [
      "                            OLS Regression Results                            \n",
      "==============================================================================\n",
      "Dep. Variable:                      Y   R-squared:                       0.966\n",
      "Model:                            OLS   Adj. R-squared:                  0.960\n",
      "Method:                 Least Squares   F-statistic:                     156.5\n",
      "Date:                Sat, 28 Jan 2023   Prob (F-statistic):           8.31e-09\n",
      "Time:                        10:57:16   Log-Likelihood:                -105.87\n",
      "No. Observations:                  14   AIC:                             217.7\n",
      "Df Residuals:                      11   BIC:                             219.6\n",
      "Df Model:                           2                                         \n",
      "Covariance Type:            nonrobust                                         \n",
      "==============================================================================\n",
      "                 coef    std err          t      P>|t|      [0.025      0.975]\n",
      "------------------------------------------------------------------------------\n",
      "Intercept     68.7670    403.024      0.171      0.868    -818.284     955.818\n",
      "X1             0.2663      0.052      5.091      0.000       0.151       0.381\n",
      "X2             0.7898      0.051     15.571      0.000       0.678       0.901\n",
      "==============================================================================\n",
      "Omnibus:                       12.876   Durbin-Watson:                   2.196\n",
      "Prob(Omnibus):                  0.002   Jarque-Bera (JB):                9.061\n",
      "Skew:                           1.410   Prob(JB):                       0.0108\n",
      "Kurtosis:                       5.753   Cond. No.                     2.34e+04\n",
      "==============================================================================\n",
      "\n",
      "Notes:\n",
      "[1] Standard Errors assume that the covariance matrix of the errors is correctly specified.\n",
      "[2] The condition number is large, 2.34e+04. This might indicate that there are\n",
      "strong multicollinearity or other numerical problems.\n"
     ]
    },
    {
     "name": "stderr",
     "output_type": "stream",
     "text": [
      "/home/xiao/anaconda3/lib/python3.9/site-packages/scipy/stats/_stats_py.py:1769: UserWarning: kurtosistest only valid for n>=20 ... continuing anyway, n=14\n",
      "  warnings.warn(\"kurtosistest only valid for n>=20 ... continuing \"\n"
     ]
    }
   ],
   "source": [
    "data = pd.read_excel(r'economics5.xlsx',sheet_name=4,names=['area','Y','X1','X2'])\n",
    "\n",
    "col = ['Y','X1','X2']\n",
    "\n",
    "df = pd.DataFrame(data,columns=col)\n",
    "\n",
    "mod = smf.ols(formula='Y~X1+X2',data=df)\n",
    "res = mod.fit()\n",
    "print(res.summary())"
   ]
  },
  {
   "cell_type": "code",
   "execution_count": null,
   "id": "d32ff91e",
   "metadata": {},
   "outputs": [],
   "source": []
  }
 ],
 "metadata": {
  "kernelspec": {
   "display_name": "Python 3 (ipykernel)",
   "language": "python",
   "name": "python3"
  },
  "language_info": {
   "codemirror_mode": {
    "name": "ipython",
    "version": 3
   },
   "file_extension": ".py",
   "mimetype": "text/x-python",
   "name": "python",
   "nbconvert_exporter": "python",
   "pygments_lexer": "ipython3",
   "version": "3.9.13"
  }
 },
 "nbformat": 4,
 "nbformat_minor": 5
}
