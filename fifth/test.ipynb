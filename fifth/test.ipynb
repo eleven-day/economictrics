{
 "cells": [
  {
   "cell_type": "code",
   "execution_count": 3,
   "id": "bbba0038",
   "metadata": {},
   "outputs": [
    {
     "name": "stdout",
     "output_type": "stream",
     "text": [
      "                            OLS Regression Results                            \n",
      "==============================================================================\n",
      "Dep. Variable:                      Y   R-squared:                       0.987\n",
      "Model:                            OLS   Adj. R-squared:                  0.986\n",
      "Method:                 Least Squares   F-statistic:                     862.4\n",
      "Date:                Sat, 28 Jan 2023   Prob (F-statistic):           8.41e-12\n",
      "Time:                        10:34:29   Log-Likelihood:                -35.917\n",
      "No. Observations:                  13   AIC:                             75.83\n",
      "Df Residuals:                      11   BIC:                             76.96\n",
      "Df Model:                           1                                         \n",
      "Covariance Type:            nonrobust                                         \n",
      "==============================================================================\n",
      "                 coef    std err          t      P>|t|      [0.025      0.975]\n",
      "------------------------------------------------------------------------------\n",
      "Intercept    -43.5076      4.630     -9.397      0.000     -53.698     -33.317\n",
      "X              2.8151      0.096     29.366      0.000       2.604       3.026\n",
      "==============================================================================\n",
      "Omnibus:                        1.283   Durbin-Watson:                   1.353\n",
      "Prob(Omnibus):                  0.526   Jarque-Bera (JB):                0.876\n",
      "Skew:                           0.320   Prob(JB):                        0.645\n",
      "Kurtosis:                       1.901   Cond. No.                         194.\n",
      "==============================================================================\n",
      "\n",
      "Notes:\n",
      "[1] Standard Errors assume that the covariance matrix of the errors is correctly specified.\n"
     ]
    },
    {
     "name": "stderr",
     "output_type": "stream",
     "text": [
      "/home/xiao/anaconda3/lib/python3.9/site-packages/scipy/stats/_stats_py.py:1769: UserWarning: kurtosistest only valid for n>=20 ... continuing anyway, n=13\n",
      "  warnings.warn(\"kurtosistest only valid for n>=20 ... continuing \"\n"
     ]
    }
   ],
   "source": [
    "import pandas as pd\n",
    "import statsmodels.formula.api as smf\n",
    "\n",
    "data = pd.read_excel(r'economics5.xlsx',sheet_name=0,names=['year','X','Y'])\n",
    "\n",
    "col = ['X','Y']\n",
    "\n",
    "df = pd.DataFrame(data,columns=col)\n",
    "\n",
    "mod = smf.ols(formula='Y~X',data=df)\n",
    "res = mod.fit()\n",
    "print(res.summary())"
   ]
  },
  {
   "cell_type": "code",
   "execution_count": 4,
   "id": "fb00dde2",
   "metadata": {},
   "outputs": [
    {
     "name": "stdout",
     "output_type": "stream",
     "text": [
      "                            OLS Regression Results                            \n",
      "==============================================================================\n",
      "Dep. Variable:                      Y   R-squared:                       0.984\n",
      "Model:                            OLS   Adj. R-squared:                  0.979\n",
      "Method:                 Least Squares   F-statistic:                     209.7\n",
      "Date:                Sat, 28 Jan 2023   Prob (F-statistic):           5.67e-07\n",
      "Time:                        10:39:56   Log-Likelihood:                0.23922\n",
      "No. Observations:                  10   AIC:                             5.522\n",
      "Df Residuals:                       7   BIC:                             6.429\n",
      "Df Model:                           2                                         \n",
      "Covariance Type:            nonrobust                                         \n",
      "==============================================================================\n",
      "                 coef    std err          t      P>|t|      [0.025      0.975]\n",
      "------------------------------------------------------------------------------\n",
      "Intercept      2.2677      0.471      4.816      0.002       1.154       3.381\n",
      "X1             0.2478      0.015     16.383      0.000       0.212       0.284\n",
      "X2            -1.2968      0.068    -19.094      0.000      -1.457      -1.136\n",
      "==============================================================================\n",
      "Omnibus:                        0.618   Durbin-Watson:                   1.774\n",
      "Prob(Omnibus):                  0.734   Jarque-Bera (JB):                0.519\n",
      "Skew:                          -0.443   Prob(JB):                        0.772\n",
      "Kurtosis:                       2.321   Cond. No.                         195.\n",
      "==============================================================================\n",
      "\n",
      "Notes:\n",
      "[1] Standard Errors assume that the covariance matrix of the errors is correctly specified.\n"
     ]
    },
    {
     "name": "stderr",
     "output_type": "stream",
     "text": [
      "/home/xiao/anaconda3/lib/python3.9/site-packages/scipy/stats/_stats_py.py:1769: UserWarning: kurtosistest only valid for n>=20 ... continuing anyway, n=10\n",
      "  warnings.warn(\"kurtosistest only valid for n>=20 ... continuing \"\n"
     ]
    }
   ],
   "source": [
    "data = pd.read_excel(r'economics5.xlsx',sheet_name=1,names=['home','Y','X1','X2'])\n",
    "\n",
    "col = ['Y','X1','X2']\n",
    "\n",
    "df = pd.DataFrame(data,columns=col)\n",
    "\n",
    "mod = smf.ols(formula='Y~X1+X2',data=df)\n",
    "res = mod.fit()\n",
    "print(res.summary())"
   ]
  },
  {
   "cell_type": "code",
   "execution_count": 7,
   "id": "6067ef3b",
   "metadata": {},
   "outputs": [
    {
     "name": "stdout",
     "output_type": "stream",
     "text": [
      "                            OLS Regression Results                            \n",
      "==============================================================================\n",
      "Dep. Variable:                      P   R-squared:                       0.856\n",
      "Model:                            OLS   Adj. R-squared:                  0.845\n",
      "Method:                 Least Squares   F-statistic:                     77.07\n",
      "Date:                Sat, 28 Jan 2023   Prob (F-statistic):           7.97e-07\n",
      "Time:                        10:44:55   Log-Likelihood:                -45.286\n",
      "No. Observations:                  15   AIC:                             94.57\n",
      "Df Residuals:                      13   BIC:                             95.99\n",
      "Df Model:                           1                                         \n",
      "Covariance Type:            nonrobust                                         \n",
      "==============================================================================\n",
      "                 coef    std err          t      P>|t|      [0.025      0.975]\n",
      "------------------------------------------------------------------------------\n",
      "Intercept    120.1590      2.891     41.559      0.000     113.913     126.405\n",
      "t              2.7918      0.318      8.779      0.000       2.105       3.479\n",
      "==============================================================================\n",
      "Omnibus:                        3.506   Durbin-Watson:                   0.531\n",
      "Prob(Omnibus):                  0.173   Jarque-Bera (JB):                1.721\n",
      "Skew:                           0.817   Prob(JB):                        0.423\n",
      "Kurtosis:                       3.290   Cond. No.                         19.3\n",
      "==============================================================================\n",
      "\n",
      "Notes:\n",
      "[1] Standard Errors assume that the covariance matrix of the errors is correctly specified.\n"
     ]
    },
    {
     "name": "stderr",
     "output_type": "stream",
     "text": [
      "/home/xiao/anaconda3/lib/python3.9/site-packages/scipy/stats/_stats_py.py:1769: UserWarning: kurtosistest only valid for n>=20 ... continuing anyway, n=15\n",
      "  warnings.warn(\"kurtosistest only valid for n>=20 ... continuing \"\n"
     ]
    }
   ],
   "source": [
    "data = pd.read_excel(r'economics5.xlsx',sheet_name=2,names=['year','P'])\n",
    "\n",
    "col = ['P']\n",
    "\n",
    "df = pd.DataFrame(data,columns=col)\n",
    "\n",
    "df['t'] = range(1,16)\n",
    "\n",
    "mod = smf.ols(formula='P~t',data=df)\n",
    "res = mod.fit()\n",
    "print(res.summary())"
   ]
  },
  {
   "cell_type": "code",
   "execution_count": null,
   "id": "1f46170d",
   "metadata": {},
   "outputs": [],
   "source": []
  }
 ],
 "metadata": {
  "kernelspec": {
   "display_name": "Python 3 (ipykernel)",
   "language": "python",
   "name": "python3"
  },
  "language_info": {
   "codemirror_mode": {
    "name": "ipython",
    "version": 3
   },
   "file_extension": ".py",
   "mimetype": "text/x-python",
   "name": "python",
   "nbconvert_exporter": "python",
   "pygments_lexer": "ipython3",
   "version": "3.9.13"
  }
 },
 "nbformat": 4,
 "nbformat_minor": 5
}
