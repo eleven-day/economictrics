{
 "cells": [
  {
   "cell_type": "code",
   "execution_count": 1,
   "id": "efd7b54f",
   "metadata": {},
   "outputs": [
    {
     "name": "stdout",
     "output_type": "stream",
     "text": [
      "                            OLS Regression Results                            \n",
      "==============================================================================\n",
      "Dep. Variable:                      Y   R-squared:                       0.995\n",
      "Model:                            OLS   Adj. R-squared:                  0.993\n",
      "Method:                 Least Squares   F-statistic:                     652.1\n",
      "Date:                Wed, 25 Jan 2023   Prob (F-statistic):           1.11e-08\n",
      "Time:                        13:40:40   Log-Likelihood:                -35.219\n",
      "No. Observations:                  10   AIC:                             76.44\n",
      "Df Residuals:                       7   BIC:                             77.35\n",
      "Df Model:                           2                                         \n",
      "Covariance Type:            nonrobust                                         \n",
      "==============================================================================\n",
      "                 coef    std err          t      P>|t|      [0.025      0.975]\n",
      "------------------------------------------------------------------------------\n",
      "Intercept    -62.9989     38.983     -1.616      0.150    -155.179      29.182\n",
      "X1             0.1898      0.013     14.459      0.000       0.159       0.221\n",
      "X2            92.4573     13.612      6.792      0.000      60.270     124.644\n",
      "==============================================================================\n",
      "Omnibus:                        0.645   Durbin-Watson:                   1.567\n",
      "Prob(Omnibus):                  0.724   Jarque-Bera (JB):                0.596\n",
      "Skew:                          -0.302   Prob(JB):                        0.742\n",
      "Kurtosis:                       1.968   Cond. No.                     1.14e+04\n",
      "==============================================================================\n",
      "\n",
      "Notes:\n",
      "[1] Standard Errors assume that the covariance matrix of the errors is correctly specified.\n",
      "[2] The condition number is large, 1.14e+04. This might indicate that there are\n",
      "strong multicollinearity or other numerical problems.\n"
     ]
    },
    {
     "name": "stderr",
     "output_type": "stream",
     "text": [
      "/home/xiao/anaconda3/lib/python3.9/site-packages/scipy/stats/_stats_py.py:1769: UserWarning: kurtosistest only valid for n>=20 ... continuing anyway, n=10\n",
      "  warnings.warn(\"kurtosistest only valid for n>=20 ... continuing \"\n"
     ]
    }
   ],
   "source": [
    "import pandas as pd\n",
    "import matplotlib.pyplot as plt\n",
    "import statsmodels.formula.api as smf\n",
    "\n",
    "df_data = pd.read_excel(r'economics4s.xlsx',sheet_name=4,names = ['Y','X1','X2'])\n",
    "col = ['Y','X1','X2']\n",
    "\n",
    "df = pd.DataFrame(df_data,columns=col)\n",
    "mod = smf.ols(formula='Y~X1+X2',data=df)\n",
    "res = mod.fit()\n",
    "print(res.summary())"
   ]
  },
  {
   "cell_type": "code",
   "execution_count": 2,
   "id": "12ab95fd",
   "metadata": {},
   "outputs": [
    {
     "name": "stdout",
     "output_type": "stream",
     "text": [
      "0.9795281080610604\n",
      "0.9139002079412644\n",
      "0.8246912551953983\n"
     ]
    }
   ],
   "source": [
    "import numpy as np\n",
    "\n",
    "df_list = df_data.values.tolist()\n",
    "\n",
    "X1 = []\n",
    "X2 = []\n",
    "Y = []\n",
    "\n",
    "for i in df_list:\n",
    "    X1.append(i[1])\n",
    "    X2.append(i[2])\n",
    "    Y.append(i[0])\n",
    "    \n",
    "X1 = np.array(X1)\n",
    "X2 = np.array(X2)\n",
    "Y = np.array(Y)\n",
    "\n",
    "def R2(x,y):\n",
    "    R2 = sum((y-np.mean(y))*(x-np.mean(x)))/((sum((y-np.mean(y))**2)*(sum((x-np.mean(x))**2)))**0.5)\n",
    "    return R2\n",
    "\n",
    "print(R2(X1,Y))\n",
    "print(R2(X2,Y))\n",
    "print(R2(X1,X2))"
   ]
  },
  {
   "cell_type": "code",
   "execution_count": 3,
   "id": "f8dd012f",
   "metadata": {},
   "outputs": [
    {
     "name": "stdout",
     "output_type": "stream",
     "text": [
      "0.9836683101830933\n",
      "0.9318072628565308\n"
     ]
    }
   ],
   "source": [
    "def ry12(ry1,ry2,r12):\n",
    "    ry12 = (ry1 - ry2*r12)/(((1 - ry2**2)*(1 - r12**2))**0.5)\n",
    "    return ry12\n",
    "\n",
    "print(ry12(0.9795281080610604,0.9139002079412644,0.8246912551953983))\n",
    "print(ry12(0.9139002079412644,0.9795281080610604,0.8246912551953983))"
   ]
  },
  {
   "cell_type": "code",
   "execution_count": 4,
   "id": "a893628b",
   "metadata": {},
   "outputs": [
    {
     "data": {
      "text/plain": [
       "<matplotlib.collections.PathCollection at 0x7f343b8be760>"
      ]
     },
     "execution_count": 4,
     "metadata": {},
     "output_type": "execute_result"
    },
    {
     "data": {
      "image/png": "[encoded data removed]",
      "text/plain": [
       "<Figure size 640x480 with 1 Axes>"
      ]
     },
     "metadata": {},
     "output_type": "display_data"
    }
   ],
   "source": [
    "import pandas as pd\n",
    "import matplotlib.pyplot as plt\n",
    "import statsmodels.formula.api as smf\n",
    "\n",
    "df_data = pd.read_excel(r'economics4s.xlsx',sheet_name=5,names = ['Y','X'])\n",
    "df_list = df_data.values.tolist()\n",
    "\n",
    "X = []\n",
    "Y = []\n",
    "\n",
    "for i in df_list:\n",
    "    X.append(i[1])\n",
    "    Y.append(i[0])\n",
    "\n",
    "plt.scatter(X,Y)"
   ]
  },
  {
   "cell_type": "code",
   "execution_count": 5,
   "id": "d6a36f6b",
   "metadata": {},
   "outputs": [
    {
     "name": "stdout",
     "output_type": "stream",
     "text": [
      "                            OLS Regression Results                            \n",
      "==============================================================================\n",
      "Dep. Variable:                      Y   R-squared:                       0.927\n",
      "Model:                            OLS   Adj. R-squared:                  0.907\n",
      "Method:                 Least Squares   F-statistic:                     44.74\n",
      "Date:                Wed, 25 Jan 2023   Prob (F-statistic):           0.000103\n",
      "Time:                        14:15:32   Log-Likelihood:                -42.726\n",
      "No. Observations:                  10   AIC:                             91.45\n",
      "Df Residuals:                       7   BIC:                             92.36\n",
      "Df Model:                           2                                         \n",
      "Covariance Type:            nonrobust                                         \n",
      "==============================================================================\n",
      "                 coef    std err          t      P>|t|      [0.025      0.975]\n",
      "------------------------------------------------------------------------------\n",
      "Intercept   -194.2841     63.671     -3.051      0.019    -344.843     -43.725\n",
      "X             22.7544      2.932      7.761      0.000      15.822      29.687\n",
      "X2            -0.2658      0.031     -8.488      0.000      -0.340      -0.192\n",
      "==============================================================================\n",
      "Omnibus:                        0.127   Durbin-Watson:                   2.011\n",
      "Prob(Omnibus):                  0.939   Jarque-Bera (JB):                0.205\n",
      "Skew:                          -0.186   Prob(JB):                        0.903\n",
      "Kurtosis:                       2.405   Cond. No.                     2.57e+04\n",
      "==============================================================================\n",
      "\n",
      "Notes:\n",
      "[1] Standard Errors assume that the covariance matrix of the errors is correctly specified.\n",
      "[2] The condition number is large, 2.57e+04. This might indicate that there are\n",
      "strong multicollinearity or other numerical problems.\n"
     ]
    },
    {
     "name": "stderr",
     "output_type": "stream",
     "text": [
      "/home/xiao/anaconda3/lib/python3.9/site-packages/scipy/stats/_stats_py.py:1769: UserWarning: kurtosistest only valid for n>=20 ... continuing anyway, n=10\n",
      "  warnings.warn(\"kurtosistest only valid for n>=20 ... continuing \"\n"
     ]
    }
   ],
   "source": [
    "import numpy as np\n",
    "\n",
    "X2 = np.array(X)**2\n",
    "\n",
    "col = ['X','Y','X2']\n",
    "\n",
    "df = pd.DataFrame(df_data,columns=col)\n",
    "\n",
    "df['X2'] = X2\n",
    "\n",
    "mod = smf.ols(formula='Y~X+X2',data=df)\n",
    "res = mod.fit()\n",
    "print(res.summary())"
   ]
  },
  {
   "cell_type": "code",
   "execution_count": 6,
   "id": "4606259a",
   "metadata": {},
   "outputs": [
    {
     "name": "stdout",
     "output_type": "stream",
     "text": [
      "                            OLS Regression Results                            \n",
      "==============================================================================\n",
      "Dep. Variable:                      Y   R-squared:                       0.999\n",
      "Model:                            OLS   Adj. R-squared:                  0.999\n",
      "Method:                 Least Squares   F-statistic:                     2264.\n",
      "Date:                Wed, 25 Jan 2023   Prob (F-statistic):           1.50e-09\n",
      "Time:                        14:19:58   Log-Likelihood:                -10.711\n",
      "No. Observations:                  10   AIC:                             29.42\n",
      "Df Residuals:                       6   BIC:                             30.63\n",
      "Df Model:                           3                                         \n",
      "Covariance Type:            nonrobust                                         \n",
      "==============================================================================\n",
      "                 coef    std err          t      P>|t|      [0.025      0.975]\n",
      "------------------------------------------------------------------------------\n",
      "Intercept     25.5324      1.412     18.078      0.000      22.077      28.988\n",
      "X1             0.7578      0.016     46.451      0.000       0.718       0.798\n",
      "X2           -12.9265      0.187    -69.090      0.000     -13.384     -12.469\n",
      "X3             0.9274      0.055     16.998      0.000       0.794       1.061\n",
      "==============================================================================\n",
      "Omnibus:                        1.607   Durbin-Watson:                   2.096\n",
      "Prob(Omnibus):                  0.448   Jarque-Bera (JB):                0.771\n",
      "Skew:                          -0.127   Prob(JB):                        0.680\n",
      "Kurtosis:                       1.663   Cond. No.                         358.\n",
      "==============================================================================\n",
      "\n",
      "Notes:\n",
      "[1] Standard Errors assume that the covariance matrix of the errors is correctly specified.\n"
     ]
    },
    {
     "name": "stderr",
     "output_type": "stream",
     "text": [
      "/home/xiao/anaconda3/lib/python3.9/site-packages/scipy/stats/_stats_py.py:1769: UserWarning: kurtosistest only valid for n>=20 ... continuing anyway, n=10\n",
      "  warnings.warn(\"kurtosistest only valid for n>=20 ... continuing \"\n"
     ]
    }
   ],
   "source": [
    "import pandas as pd\n",
    "import statsmodels.formula.api as smf\n",
    "\n",
    "df_data = pd.read_excel(r'economics4s.xlsx',sheet_name=1,names = ['shop','Y','X1','X2'])\n",
    "col = ['X1','X2','Y']\n",
    "\n",
    "df = pd.DataFrame(df_data,columns=col)\n",
    "\n",
    "df['X3'] = [8,10,17,11,7,6,14,5,9,23]\n",
    "\n",
    "mod = smf.ols(formula='Y~X1+X2+X3',data=df)\n",
    "res = mod.fit()\n",
    "print(res.summary())"
   ]
  },
  {
   "cell_type": "code",
   "execution_count": 14,
   "id": "8eac8d64",
   "metadata": {},
   "outputs": [
    {
     "data": {
      "text/html": [
       "<div>\n",
       "<style scoped>\n",
       "    .dataframe tbody tr th:only-of-type {\n",
       "        vertical-align: middle;\n",
       "    }\n",
       "\n",
       "    .dataframe tbody tr th {\n",
       "        vertical-align: top;\n",
       "    }\n",
       "\n",
       "    .dataframe thead th {\n",
       "        text-align: right;\n",
       "    }\n",
       "</style>\n",
       "<table border=\"1\" class=\"dataframe\">\n",
       "  <thead>\n",
       "    <tr style=\"text-align: right;\">\n",
       "      <th></th>\n",
       "      <th>X1</th>\n",
       "      <th>X2</th>\n",
       "      <th>Y</th>\n",
       "      <th>X3</th>\n",
       "    </tr>\n",
       "  </thead>\n",
       "  <tbody>\n",
       "    <tr>\n",
       "      <th>X1</th>\n",
       "      <td>1.000000</td>\n",
       "      <td>0.090924</td>\n",
       "      <td>0.485931</td>\n",
       "      <td>-0.015972</td>\n",
       "    </tr>\n",
       "    <tr>\n",
       "      <th>X2</th>\n",
       "      <td>0.090924</td>\n",
       "      <td>1.000000</td>\n",
       "      <td>-0.801110</td>\n",
       "      <td>-0.048795</td>\n",
       "    </tr>\n",
       "    <tr>\n",
       "      <th>Y</th>\n",
       "      <td>0.485931</td>\n",
       "      <td>-0.801110</td>\n",
       "      <td>1.000000</td>\n",
       "      <td>0.238516</td>\n",
       "    </tr>\n",
       "    <tr>\n",
       "      <th>X3</th>\n",
       "      <td>-0.015972</td>\n",
       "      <td>-0.048795</td>\n",
       "      <td>0.238516</td>\n",
       "      <td>1.000000</td>\n",
       "    </tr>\n",
       "  </tbody>\n",
       "</table>\n",
       "</div>"
      ],
      "text/plain": [
       "          X1        X2         Y        X3\n",
       "X1  1.000000  0.090924  0.485931 -0.015972\n",
       "X2  0.090924  1.000000 -0.801110 -0.048795\n",
       "Y   0.485931 -0.801110  1.000000  0.238516\n",
       "X3 -0.015972 -0.048795  0.238516  1.000000"
      ]
     },
     "execution_count": 14,
     "metadata": {},
     "output_type": "execute_result"
    }
   ],
   "source": [
    "df.corr()"
   ]
  },
  {
   "cell_type": "code",
   "execution_count": 32,
   "id": "8bb261a5",
   "metadata": {},
   "outputs": [
    {
     "name": "stdout",
     "output_type": "stream",
     "text": [
      "                            OLS Regression Results                            \n",
      "==============================================================================\n",
      "Dep. Variable:                      Y   R-squared:                       0.984\n",
      "Model:                            OLS   Adj. R-squared:                  0.979\n",
      "Method:                 Least Squares   F-statistic:                     214.8\n",
      "Date:                Wed, 25 Jan 2023   Prob (F-statistic):           5.22e-07\n",
      "Time:                        15:38:04   Log-Likelihood:                 23.424\n",
      "No. Observations:                  10   AIC:                            -40.85\n",
      "Df Residuals:                       7   BIC:                            -39.94\n",
      "Df Model:                           2                                         \n",
      "Covariance Type:            nonrobust                                         \n",
      "==============================================================================\n",
      "                 coef    std err          t      P>|t|      [0.025      0.975]\n",
      "------------------------------------------------------------------------------\n",
      "Intercept     -1.2873      0.573     -2.246      0.060      -2.643       0.068\n",
      "L              0.4327      0.157      2.754      0.028       0.061       0.804\n",
      "K              1.2686      0.067     19.059      0.000       1.111       1.426\n",
      "==============================================================================\n",
      "Omnibus:                        1.029   Durbin-Watson:                   2.182\n",
      "Prob(Omnibus):                  0.598   Jarque-Bera (JB):                0.738\n",
      "Skew:                          -0.574   Prob(JB):                        0.692\n",
      "Kurtosis:                       2.326   Cond. No.                         389.\n",
      "==============================================================================\n",
      "\n",
      "Notes:\n",
      "[1] Standard Errors assume that the covariance matrix of the errors is correctly specified.\n"
     ]
    },
    {
     "name": "stderr",
     "output_type": "stream",
     "text": [
      "/home/xiao/anaconda3/lib/python3.9/site-packages/scipy/stats/_stats_py.py:1769: UserWarning: kurtosistest only valid for n>=20 ... continuing anyway, n=10\n",
      "  warnings.warn(\"kurtosistest only valid for n>=20 ... continuing \"\n"
     ]
    }
   ],
   "source": [
    "import pandas as pd\n",
    "import numpy as np\n",
    "import statsmodels.formula.api as smf\n",
    "\n",
    "df_data = pd.read_excel(r'economics4s.xlsx',sheet_name=6,names=['year','Y','L','K','t'])\n",
    "col = ['Y','L','K']\n",
    "\n",
    "df = pd.DataFrame(df_data,columns=col)\n",
    "\n",
    "df = np.log(df)\n",
    "\n",
    "mod = smf.ols(formula='Y~L+K',data=df)\n",
    "res = mod.fit()\n",
    "print(res.summary())"
   ]
  },
  {
   "cell_type": "code",
   "execution_count": 33,
   "id": "72ccad12",
   "metadata": {},
   "outputs": [
    {
     "data": {
      "text/plain": [
       "0.2760150184697347"
      ]
     },
     "execution_count": 33,
     "metadata": {},
     "output_type": "execute_result"
    }
   ],
   "source": [
    "np.exp(-1.2873)"
   ]
  },
  {
   "cell_type": "code",
   "execution_count": 35,
   "id": "536fb6ca",
   "metadata": {},
   "outputs": [
    {
     "name": "stdout",
     "output_type": "stream",
     "text": [
      "                            OLS Regression Results                            \n",
      "==============================================================================\n",
      "Dep. Variable:                      Y   R-squared:                       0.938\n",
      "Model:                            OLS   Adj. R-squared:                  0.930\n",
      "Method:                 Least Squares   F-statistic:                     120.7\n",
      "Date:                Wed, 25 Jan 2023   Prob (F-statistic):           4.18e-06\n",
      "Time:                        16:21:41   Log-Likelihood:                 16.650\n",
      "No. Observations:                  10   AIC:                            -29.30\n",
      "Df Residuals:                       8   BIC:                            -28.70\n",
      "Df Model:                           1                                         \n",
      "Covariance Type:            nonrobust                                         \n",
      "==============================================================================\n",
      "                 coef    std err          t      P>|t|      [0.025      0.975]\n",
      "------------------------------------------------------------------------------\n",
      "Intercept     -2.9645      0.800     -3.704      0.006      -4.810      -1.119\n",
      "X              1.0945      0.100     10.989      0.000       0.865       1.324\n",
      "==============================================================================\n",
      "Omnibus:                        2.886   Durbin-Watson:                   0.685\n",
      "Prob(Omnibus):                  0.236   Jarque-Bera (JB):                0.955\n",
      "Skew:                           0.057   Prob(JB):                        0.620\n",
      "Kurtosis:                       1.490   Cond. No.                         403.\n",
      "==============================================================================\n",
      "\n",
      "Notes:\n",
      "[1] Standard Errors assume that the covariance matrix of the errors is correctly specified.\n"
     ]
    },
    {
     "name": "stderr",
     "output_type": "stream",
     "text": [
      "/home/xiao/anaconda3/lib/python3.9/site-packages/scipy/stats/_stats_py.py:1769: UserWarning: kurtosistest only valid for n>=20 ... continuing anyway, n=10\n",
      "  warnings.warn(\"kurtosistest only valid for n>=20 ... continuing \"\n"
     ]
    }
   ],
   "source": [
    "df['X'] = df['L'] + df['K']\n",
    "\n",
    "mod = smf.ols(formula='Y~X',data=df)\n",
    "res = mod.fit()\n",
    "print(res.summary())"
   ]
  },
  {
   "cell_type": "code",
   "execution_count": 36,
   "id": "04e2f56c",
   "metadata": {},
   "outputs": [
    {
     "data": {
      "text/plain": [
       "0.051586255925869705"
      ]
     },
     "execution_count": 36,
     "metadata": {},
     "output_type": "execute_result"
    }
   ],
   "source": [
    "np.exp(-2.9645)"
   ]
  },
  {
   "cell_type": "code",
   "execution_count": null,
   "id": "824d41d8",
   "metadata": {},
   "outputs": [],
   "source": []
  }
 ],
 "metadata": {
  "kernelspec": {
   "display_name": "Python 3 (ipykernel)",
   "language": "python",
   "name": "python3"
  },
  "language_info": {
   "codemirror_mode": {
    "name": "ipython",
    "version": 3
   },
   "file_extension": ".py",
   "mimetype": "text/x-python",
   "name": "python",
   "nbconvert_exporter": "python",
   "pygments_lexer": "ipython3",
   "version": "3.9.13"
  }
 },
 "nbformat": 4,
 "nbformat_minor": 5
}
