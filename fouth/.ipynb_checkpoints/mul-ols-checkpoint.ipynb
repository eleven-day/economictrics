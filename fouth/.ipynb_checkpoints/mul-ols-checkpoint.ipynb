{
 "cells": [
  {
   "cell_type": "code",
   "execution_count": 14,
   "id": "06e0c224",
   "metadata": {},
   "outputs": [
    {
     "data": {
      "text/html": [
       "<div>\n",
       "<style scoped>\n",
       "    .dataframe tbody tr th:only-of-type {\n",
       "        vertical-align: middle;\n",
       "    }\n",
       "\n",
       "    .dataframe tbody tr th {\n",
       "        vertical-align: top;\n",
       "    }\n",
       "\n",
       "    .dataframe thead th {\n",
       "        text-align: right;\n",
       "    }\n",
       "</style>\n",
       "<table border=\"1\" class=\"dataframe\">\n",
       "  <thead>\n",
       "    <tr style=\"text-align: right;\">\n",
       "      <th></th>\n",
       "      <th>X1</th>\n",
       "      <th>X2</th>\n",
       "      <th>Y</th>\n",
       "    </tr>\n",
       "  </thead>\n",
       "  <tbody>\n",
       "    <tr>\n",
       "      <th>0</th>\n",
       "      <td>4</td>\n",
       "      <td>1</td>\n",
       "      <td>0</td>\n",
       "    </tr>\n",
       "    <tr>\n",
       "      <th>1</th>\n",
       "      <td>3</td>\n",
       "      <td>2</td>\n",
       "      <td>1</td>\n",
       "    </tr>\n",
       "    <tr>\n",
       "      <th>2</th>\n",
       "      <td>9</td>\n",
       "      <td>0</td>\n",
       "      <td>5</td>\n",
       "    </tr>\n",
       "    <tr>\n",
       "      <th>3</th>\n",
       "      <td>8</td>\n",
       "      <td>2</td>\n",
       "      <td>6</td>\n",
       "    </tr>\n",
       "    <tr>\n",
       "      <th>4</th>\n",
       "      <td>6</td>\n",
       "      <td>5</td>\n",
       "      <td>8</td>\n",
       "    </tr>\n",
       "  </tbody>\n",
       "</table>\n",
       "</div>"
      ],
      "text/plain": [
       "   X1  X2  Y\n",
       "0   4   1  0\n",
       "1   3   2  1\n",
       "2   9   0  5\n",
       "3   8   2  6\n",
       "4   6   5  8"
      ]
     },
     "execution_count": 14,
     "metadata": {},
     "output_type": "execute_result"
    }
   ],
   "source": [
    "import pandas as pd\n",
    "\n",
    "df_data = pd.read_excel(r'economics4s.xlsx',sheet_name=0)\n",
    "\n",
    "col = ['X1','X2','Y']\n",
    "\n",
    "df = pd.DataFrame(df_data,columns=col)\n",
    "df.head()"
   ]
  },
  {
   "cell_type": "code",
   "execution_count": 21,
   "id": "d4cf8343",
   "metadata": {},
   "outputs": [
    {
     "name": "stdout",
     "output_type": "stream",
     "text": [
      "                            OLS Regression Results                            \n",
      "==============================================================================\n",
      "Dep. Variable:                      Y   R-squared:                       0.990\n",
      "Model:                            OLS   Adj. R-squared:                  0.980\n",
      "Method:                 Least Squares   F-statistic:                     99.05\n",
      "Date:                Wed, 25 Jan 2023   Prob (F-statistic):             0.0100\n",
      "Time:                        00:26:12   Log-Likelihood:                -1.1285\n",
      "No. Observations:                   5   AIC:                             8.257\n",
      "Df Residuals:                       2   BIC:                             7.085\n",
      "Df Model:                           2                                         \n",
      "Covariance Type:            nonrobust                                         \n",
      "==============================================================================\n",
      "                 coef    std err          t      P>|t|      [0.025      0.975]\n",
      "------------------------------------------------------------------------------\n",
      "Intercept     -5.4023      0.715     -7.557      0.017      -8.478      -2.326\n",
      "X1             1.1264      0.096     11.713      0.007       0.713       1.540\n",
      "X2             1.3218      0.131     10.086      0.010       0.758       1.886\n",
      "==============================================================================\n",
      "Omnibus:                          nan   Durbin-Watson:                   2.198\n",
      "Prob(Omnibus):                    nan   Jarque-Bera (JB):                0.501\n",
      "Skew:                          -0.143   Prob(JB):                        0.778\n",
      "Kurtosis:                       1.476   Cond. No.                         22.7\n",
      "==============================================================================\n",
      "\n",
      "Notes:\n",
      "[1] Standard Errors assume that the covariance matrix of the errors is correctly specified.\n"
     ]
    },
    {
     "name": "stderr",
     "output_type": "stream",
     "text": [
      "/home/xiao/anaconda3/lib/python3.9/site-packages/statsmodels/stats/stattools.py:74: ValueWarning: omni_normtest is not valid with less than 8 observations; 5 samples were given.\n",
      "  warn(\"omni_normtest is not valid with less than 8 observations; %i \"\n"
     ]
    }
   ],
   "source": [
    "import statsmodels.formula.api as smf\n",
    "\n",
    "mod = smf.ols(formula='Y~X1+X2',data=df)\n",
    "res = mod.fit()\n",
    "print(res.summary())"
   ]
  },
  {
   "cell_type": "code",
   "execution_count": 28,
   "id": "cd53940c",
   "metadata": {},
   "outputs": [
    {
     "name": "stdout",
     "output_type": "stream",
     "text": [
      "0.94\n"
     ]
    }
   ],
   "source": [
    "def adjR2(n,k,r2):\n",
    "    adjR2 = 1 - ((n - 1)/(n - k - 1))*(1 - r2)\n",
    "    return adjR2\n",
    "\n",
    "print(adjR2(31,5,0.95))"
   ]
  },
  {
   "cell_type": "code",
   "execution_count": 31,
   "id": "00b47daa",
   "metadata": {},
   "outputs": [
    {
     "data": {
      "text/html": [
       "<div>\n",
       "<style scoped>\n",
       "    .dataframe tbody tr th:only-of-type {\n",
       "        vertical-align: middle;\n",
       "    }\n",
       "\n",
       "    .dataframe tbody tr th {\n",
       "        vertical-align: top;\n",
       "    }\n",
       "\n",
       "    .dataframe thead th {\n",
       "        text-align: right;\n",
       "    }\n",
       "</style>\n",
       "<table border=\"1\" class=\"dataframe\">\n",
       "  <thead>\n",
       "    <tr style=\"text-align: right;\">\n",
       "      <th></th>\n",
       "      <th>X1</th>\n",
       "      <th>X2</th>\n",
       "      <th>Y</th>\n",
       "    </tr>\n",
       "  </thead>\n",
       "  <tbody>\n",
       "    <tr>\n",
       "      <th>0</th>\n",
       "      <td>60</td>\n",
       "      <td>3</td>\n",
       "      <td>40</td>\n",
       "    </tr>\n",
       "    <tr>\n",
       "      <th>1</th>\n",
       "      <td>100</td>\n",
       "      <td>5</td>\n",
       "      <td>45</td>\n",
       "    </tr>\n",
       "    <tr>\n",
       "      <th>2</th>\n",
       "      <td>85</td>\n",
       "      <td>2</td>\n",
       "      <td>80</td>\n",
       "    </tr>\n",
       "    <tr>\n",
       "      <th>3</th>\n",
       "      <td>50</td>\n",
       "      <td>1</td>\n",
       "      <td>60</td>\n",
       "    </tr>\n",
       "    <tr>\n",
       "      <th>4</th>\n",
       "      <td>75</td>\n",
       "      <td>3</td>\n",
       "      <td>50</td>\n",
       "    </tr>\n",
       "  </tbody>\n",
       "</table>\n",
       "</div>"
      ],
      "text/plain": [
       "    X1  X2   Y\n",
       "0   60   3  40\n",
       "1  100   5  45\n",
       "2   85   2  80\n",
       "3   50   1  60\n",
       "4   75   3  50"
      ]
     },
     "execution_count": 31,
     "metadata": {},
     "output_type": "execute_result"
    }
   ],
   "source": [
    "import pandas as pd\n",
    "import statsmodels.formula.api as smf\n",
    "\n",
    "df_data = pd.read_excel(r'economics4s.xlsx',sheet_name=1,names = ['shop','Y','X1','X2'])\n",
    "col = ['X1','X2','Y']\n",
    "\n",
    "df = pd.DataFrame(df_data,columns=col)\n",
    "df.head()"
   ]
  },
  {
   "cell_type": "code",
   "execution_count": 32,
   "id": "ea777767",
   "metadata": {},
   "outputs": [
    {
     "name": "stdout",
     "output_type": "stream",
     "text": [
      "                            OLS Regression Results                            \n",
      "==============================================================================\n",
      "Dep. Variable:                      Y   R-squared:                       0.957\n",
      "Model:                            OLS   Adj. R-squared:                  0.944\n",
      "Method:                 Least Squares   F-statistic:                     77.15\n",
      "Date:                Wed, 25 Jan 2023   Prob (F-statistic):           1.70e-05\n",
      "Time:                        00:36:58   Log-Likelihood:                -30.186\n",
      "No. Observations:                  10   AIC:                             66.37\n",
      "Df Residuals:                       7   BIC:                             67.28\n",
      "Df Model:                           2                                         \n",
      "Covariance Type:            nonrobust                                         \n",
      "==============================================================================\n",
      "                 coef    std err          t      P>|t|      [0.025      0.975]\n",
      "------------------------------------------------------------------------------\n",
      "Intercept     36.4121      8.172      4.456      0.003      17.089      55.736\n",
      "X1             0.7546      0.106      7.126      0.000       0.504       1.005\n",
      "X2           -13.0777      1.213    -10.781      0.000     -15.946     -10.209\n",
      "==============================================================================\n",
      "Omnibus:                        2.753   Durbin-Watson:                   1.810\n",
      "Prob(Omnibus):                  0.252   Jarque-Bera (JB):                1.400\n",
      "Skew:                           0.905   Prob(JB):                        0.496\n",
      "Kurtosis:                       2.705   Cond. No.                         316.\n",
      "==============================================================================\n",
      "\n",
      "Notes:\n",
      "[1] Standard Errors assume that the covariance matrix of the errors is correctly specified.\n"
     ]
    },
    {
     "name": "stderr",
     "output_type": "stream",
     "text": [
      "/home/xiao/anaconda3/lib/python3.9/site-packages/scipy/stats/_stats_py.py:1769: UserWarning: kurtosistest only valid for n>=20 ... continuing anyway, n=10\n",
      "  warnings.warn(\"kurtosistest only valid for n>=20 ... continuing \"\n"
     ]
    }
   ],
   "source": [
    "mod = smf.ols(formula='Y~X1+X2',data=df)\n",
    "res = mod.fit()\n",
    "print(res.summary())"
   ]
  },
  {
   "cell_type": "code",
   "execution_count": 34,
   "id": "1d1d2528",
   "metadata": {},
   "outputs": [
    {
     "name": "stdout",
     "output_type": "stream",
     "text": [
      "57.547000000000004\n"
     ]
    }
   ],
   "source": [
    "print(36.4121+80*0.7546-3*13.0777)"
   ]
  },
  {
   "cell_type": "code",
   "execution_count": 37,
   "id": "29a00fe8",
   "metadata": {},
   "outputs": [
    {
     "name": "stdout",
     "output_type": "stream",
     "text": [
      "0.5429483205474754\n"
     ]
    }
   ],
   "source": [
    "def ry12(ry1,ry2,r12):\n",
    "    ry12 = (ry1 - ry2*r12)/(((1 - ry2**2)*(1 - r12**2))**0.5)\n",
    "    return ry12\n",
    "\n",
    "print(ry12(0.79,0.97,0.72))"
   ]
  },
  {
   "cell_type": "code",
   "execution_count": 40,
   "id": "0cea552a",
   "metadata": {},
   "outputs": [
    {
     "name": "stdout",
     "output_type": "stream",
     "text": [
      "                            OLS Regression Results                            \n",
      "==============================================================================\n",
      "Dep. Variable:                      Y   R-squared:                       0.837\n",
      "Model:                            OLS   Adj. R-squared:                  0.820\n",
      "Method:                 Least Squares   F-statistic:                     48.73\n",
      "Date:                Wed, 25 Jan 2023   Prob (F-statistic):           3.31e-08\n",
      "Time:                        00:57:17   Log-Likelihood:                -61.612\n",
      "No. Observations:                  22   AIC:                             129.2\n",
      "Df Residuals:                      19   BIC:                             132.5\n",
      "Df Model:                           2                                         \n",
      "Covariance Type:            nonrobust                                         \n",
      "==============================================================================\n",
      "                 coef    std err          t      P>|t|      [0.025      0.975]\n",
      "------------------------------------------------------------------------------\n",
      "Intercept     41.2057      2.825     14.585      0.000      35.293      47.119\n",
      "X1             0.0709      0.019      3.739      0.001       0.031       0.111\n",
      "X2             0.2529      0.042      6.016      0.000       0.165       0.341\n",
      "==============================================================================\n",
      "Omnibus:                        1.805   Durbin-Watson:                   2.148\n",
      "Prob(Omnibus):                  0.406   Jarque-Bera (JB):                1.034\n",
      "Skew:                           0.115   Prob(JB):                        0.596\n",
      "Kurtosis:                       1.963   Cond. No.                         300.\n",
      "==============================================================================\n",
      "\n",
      "Notes:\n",
      "[1] Standard Errors assume that the covariance matrix of the errors is correctly specified.\n"
     ]
    }
   ],
   "source": [
    "import pandas as pd\n",
    "import statsmodels.formula.api as smf\n",
    "\n",
    "df_data = pd.read_excel(r'economics4s.xlsx',sheet_name=2,names = ['nation','Y','X1','X2','X3'])\n",
    "col = ['X1','X2','X3','Y']\n",
    "\n",
    "df = pd.DataFrame(df_data,columns=col)\n",
    "\n",
    "mod = smf.ols(formula='Y~X1+X2',data=df)\n",
    "res = mod.fit()\n",
    "print(res.summary())"
   ]
  },
  {
   "cell_type": "code",
   "execution_count": 51,
   "id": "7b3a7f04",
   "metadata": {},
   "outputs": [
    {
     "name": "stdout",
     "output_type": "stream",
     "text": [
      "0.7253150244845832\n",
      "0.8466549711389108\n",
      "0.503007282759955\n"
     ]
    }
   ],
   "source": [
    "import numpy as np\n",
    "\n",
    "df_list = df_data.values.tolist()\n",
    "\n",
    "X1 = []\n",
    "X2 = []\n",
    "Y = []\n",
    "\n",
    "for i in df_list:\n",
    "    X1.append(i[2])\n",
    "    X2.append(i[3])\n",
    "    Y.append(i[1])\n",
    "    \n",
    "X1 = np.array(X1)\n",
    "X2 = np.array(X2)\n",
    "Y = np.array(Y)\n",
    "\n",
    "def R2(x,y):\n",
    "    R2 = sum((y-np.mean(y))*(x-np.mean(x)))/((sum((y-np.mean(y))**2)*(sum((x-np.mean(x))**2)))**0.5)\n",
    "    return R2\n",
    "\n",
    "print(R2(X1,Y))\n",
    "print(R2(X2,Y))\n",
    "print(R2(X1,X2))"
   ]
  },
  {
   "cell_type": "code",
   "execution_count": 52,
   "id": "91c0e700",
   "metadata": {},
   "outputs": [
    {
     "name": "stdout",
     "output_type": "stream",
     "text": [
      "0.6510713289063093\n",
      "0.8097933700940587\n"
     ]
    }
   ],
   "source": [
    "print(ry12(0.7253150244845832,0.8466549711389108,0.503007282759955))\n",
    "print(ry12(0.8466549711389108,0.7253150244845832,0.503007282759955))"
   ]
  },
  {
   "cell_type": "code",
   "execution_count": 53,
   "id": "a05ad15f",
   "metadata": {},
   "outputs": [
    {
     "name": "stdout",
     "output_type": "stream",
     "text": [
      "                            OLS Regression Results                            \n",
      "==============================================================================\n",
      "Dep. Variable:                      Y   R-squared:                       0.907\n",
      "Model:                            OLS   Adj. R-squared:                  0.891\n",
      "Method:                 Least Squares   F-statistic:                     58.20\n",
      "Date:                Wed, 25 Jan 2023   Prob (F-statistic):           1.83e-09\n",
      "Time:                        01:17:05   Log-Likelihood:                -55.483\n",
      "No. Observations:                  22   AIC:                             119.0\n",
      "Df Residuals:                      18   BIC:                             123.3\n",
      "Df Model:                           3                                         \n",
      "Covariance Type:            nonrobust                                         \n",
      "==============================================================================\n",
      "                 coef    std err          t      P>|t|      [0.025      0.975]\n",
      "------------------------------------------------------------------------------\n",
      "Intercept     32.9931      3.139     10.512      0.000      26.399      39.587\n",
      "X1             0.0716      0.015      4.854      0.000       0.041       0.103\n",
      "X2             0.1687      0.040      4.223      0.001       0.085       0.253\n",
      "X3             0.1790      0.049      3.664      0.002       0.076       0.282\n",
      "==============================================================================\n",
      "Omnibus:                        0.884   Durbin-Watson:                   1.617\n",
      "Prob(Omnibus):                  0.643   Jarque-Bera (JB):                0.457\n",
      "Skew:                          -0.351   Prob(JB):                        0.796\n",
      "Kurtosis:                       2.921   Cond. No.                         546.\n",
      "==============================================================================\n",
      "\n",
      "Notes:\n",
      "[1] Standard Errors assume that the covariance matrix of the errors is correctly specified.\n"
     ]
    }
   ],
   "source": [
    "mod = smf.ols(formula='Y~X1+X2+X3',data=df)\n",
    "res = mod.fit()\n",
    "print(res.summary())"
   ]
  },
  {
   "cell_type": "code",
   "execution_count": 55,
   "id": "701db596",
   "metadata": {},
   "outputs": [
    {
     "data": {
      "text/plain": [
       "<matplotlib.collections.PathCollection at 0x7f04b07d9790>"
      ]
     },
     "execution_count": 55,
     "metadata": {},
     "output_type": "execute_result"
    },
    {
     "data": {
      "image/png": "[encoded data removed]",
      "text/plain": [
       "<Figure size 640x480 with 1 Axes>"
      ]
     },
     "metadata": {},
     "output_type": "display_data"
    }
   ],
   "source": [
    "import pandas as pd\n",
    "import matplotlib.pyplot as plt\n",
    "import statsmodels.formula.api as smf\n",
    "\n",
    "df_data = pd.read_excel(r'economics4s.xlsx',sheet_name=3,names = ['Y','X'])\n",
    "df_list = df_data.values.tolist()\n",
    "\n",
    "X = []\n",
    "Y = []\n",
    "\n",
    "for i in df_list:\n",
    "    X.append(i[1])\n",
    "    Y.append(i[0])\n",
    "\n",
    "plt.scatter(X,Y)"
   ]
  },
  {
   "cell_type": "code",
   "execution_count": 60,
   "id": "608d065b",
   "metadata": {},
   "outputs": [
    {
     "name": "stdout",
     "output_type": "stream",
     "text": [
      "                            OLS Regression Results                            \n",
      "==============================================================================\n",
      "Dep. Variable:                      Y   R-squared:                       0.993\n",
      "Model:                            OLS   Adj. R-squared:                  0.991\n",
      "Method:                 Least Squares   F-statistic:                     634.3\n",
      "Date:                Wed, 25 Jan 2023   Prob (F-statistic):           2.07e-10\n",
      "Time:                        01:32:49   Log-Likelihood:                -36.006\n",
      "No. Observations:                  12   AIC:                             78.01\n",
      "Df Residuals:                       9   BIC:                             79.47\n",
      "Df Model:                           2                                         \n",
      "Covariance Type:            nonrobust                                         \n",
      "==============================================================================\n",
      "                 coef    std err          t      P>|t|      [0.025      0.975]\n",
      "------------------------------------------------------------------------------\n",
      "Intercept   -107.4594     10.816     -9.935      0.000    -131.928     -82.991\n",
      "X             18.1978      0.577     31.544      0.000      16.893      19.503\n",
      "X2            -0.1932      0.007    -28.304      0.000      -0.209      -0.178\n",
      "==============================================================================\n",
      "Omnibus:                        0.291   Durbin-Watson:                   2.361\n",
      "Prob(Omnibus):                  0.865   Jarque-Bera (JB):                0.111\n",
      "Skew:                          -0.179   Prob(JB):                        0.946\n",
      "Kurtosis:                       2.694   Cond. No.                     1.59e+04\n",
      "==============================================================================\n",
      "\n",
      "Notes:\n",
      "[1] Standard Errors assume that the covariance matrix of the errors is correctly specified.\n",
      "[2] The condition number is large, 1.59e+04. This might indicate that there are\n",
      "strong multicollinearity or other numerical problems.\n"
     ]
    },
    {
     "name": "stderr",
     "output_type": "stream",
     "text": [
      "/home/xiao/anaconda3/lib/python3.9/site-packages/scipy/stats/_stats_py.py:1769: UserWarning: kurtosistest only valid for n>=20 ... continuing anyway, n=12\n",
      "  warnings.warn(\"kurtosistest only valid for n>=20 ... continuing \"\n"
     ]
    }
   ],
   "source": [
    "import numpy as np\n",
    "\n",
    "X2 = np.array(X)**2\n",
    "\n",
    "col = ['X','Y','X2']\n",
    "\n",
    "df = pd.DataFrame(df_data,columns=col)\n",
    "\n",
    "df['X2'] = X2\n",
    "\n",
    "mod = smf.ols(formula='Y~X+X2',data=df)\n",
    "res = mod.fit()\n",
    "print(res.summary())"
   ]
  },
  {
   "cell_type": "code",
   "execution_count": null,
   "id": "4760fb99",
   "metadata": {},
   "outputs": [],
   "source": []
  }
 ],
 "metadata": {
  "kernelspec": {
   "display_name": "Python 3 (ipykernel)",
   "language": "python",
   "name": "python3"
  },
  "language_info": {
   "codemirror_mode": {
    "name": "ipython",
    "version": 3
   },
   "file_extension": ".py",
   "mimetype": "text/x-python",
   "name": "python",
   "nbconvert_exporter": "python",
   "pygments_lexer": "ipython3",
   "version": "3.9.13"
  }
 },
 "nbformat": 4,
 "nbformat_minor": 5
}
